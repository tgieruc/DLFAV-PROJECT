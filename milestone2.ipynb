{
 "cells": [
  {
   "cell_type": "code",
   "execution_count": 1,
   "metadata": {
    "collapsed": false,
    "pycharm": {
     "name": "#%%\n"
    }
   },
   "outputs": [
    {
     "name": "stderr",
     "output_type": "stream",
     "text": [
      "/home/tgieruc/miniconda3/envs/dlfav/lib/python3.9/site-packages/tqdm/auto.py:22: TqdmWarning: IProgress not found. Please update jupyter and ipywidgets. See https://ipywidgets.readthedocs.io/en/stable/user_install.html\n",
      "  from .autonotebook import tqdm as notebook_tqdm\n"
     ]
    }
   ],
   "source": [
    "import sys,os\n",
    "sys.path.insert(0, os.path.join(os.path.abspath(''), \"YOLOX\"))\n",
    "\n",
    "import numpy as np\n",
    "import cv2\n",
    "import imutils\n",
    "import time\n",
    "\n",
    "from tracker import Tracker\n",
    "from pose_detector import PoseDetector\n",
    "from sequence_detector import SequenceDetector\n",
    "from upscale import Upscaler\n",
    "from visualizer import visualize\n",
    "\n",
    "environment = \"local\""
   ]
  },
  {
   "cell_type": "code",
   "execution_count": 2,
   "outputs": [],
   "source": [
    "cap = cv2.VideoCapture(0)"
   ],
   "metadata": {
    "collapsed": false,
    "pycharm": {
     "name": "#%%\n"
    }
   }
  },
  {
   "cell_type": "code",
   "execution_count": 3,
   "outputs": [],
   "source": [
    "from pose_tracker import PoseTracker\n",
    "tracker = Tracker('person')\n",
    "pose_detector = PoseDetector(n_feature=8, n_output=3, checkpoint_path=\"pose_classification_simplified.ckpt\", simple_mode=True, model_based=False)\n",
    "sequence_detector = SequenceDetector([1,2], 10)\n",
    "pose_tracker = PoseTracker(pose_detector, sequence_detector, tracker)\n",
    "poi = None\n",
    "upscaler = Upscaler(\"realesrgan_s\", enhance_face=False)"
   ],
   "metadata": {
    "collapsed": false,
    "pycharm": {
     "name": "#%%\n"
    }
   }
  },
  {
   "cell_type": "code",
   "execution_count": 4,
   "outputs": [
    {
     "name": "stdout",
     "output_type": "stream",
     "text": [
      "/tmp/pip-install-4y87dran/openpifpaf_6aac84dbeb8e466293e96168b9f10b8d/src/openpifpaf/csrc/src/cif_hr.cpp:102: UserInfo: resizing cifhr buffer\n",
      "/tmp/pip-install-4y87dran/openpifpaf_6aac84dbeb8e466293e96168b9f10b8d/src/openpifpaf/csrc/src/occupancy.cpp:53: UserInfo: resizing occupancy buffer\n"
     ]
    },
    {
     "name": "stderr",
     "output_type": "stream",
     "text": [
      "/home/tgieruc/miniconda3/envs/dlfav/lib/python3.9/site-packages/torch/functional.py:568: UserWarning: torch.meshgrid: in an upcoming release, it will be required to pass the indexing argument. (Triggered internally at  /opt/conda/conda-bld/pytorch_1646756402876/work/aten/src/ATen/native/TensorShape.cpp:2228.)\n",
      "  return _VF.meshgrid(tensors, **kwargs)  # type: ignore[attr-defined]\n",
      "/home/tgieruc/DLFAV-PROJECT/pose_detector.py:141: UserWarning: Implicit dimension choice for softmax has been deprecated. Change the call to include dim=X as an argument.\n",
      "  _, pred = torch.max(F.softmax(self.keypoint_to_pose_net(torch.from_numpy(keypoints.astype(np.float32)).cuda(device))).data, dim=1)\n"
     ]
    },
    {
     "ename": "KeyboardInterrupt",
     "evalue": "",
     "output_type": "error",
     "traceback": [
      "\u001B[0;31m---------------------------------------------------------------------------\u001B[0m",
      "\u001B[0;31mKeyboardInterrupt\u001B[0m                         Traceback (most recent call last)",
      "Input \u001B[0;32mIn [4]\u001B[0m, in \u001B[0;36m<cell line: 5>\u001B[0;34m()\u001B[0m\n\u001B[1;32m     13\u001B[0m \u001B[38;5;66;03m# im = cv2.filter2D(im, -1, kernel)\u001B[39;00m\n\u001B[1;32m     14\u001B[0m \u001B[38;5;66;03m# im = cv2.filter2D(im, -1, kernel)\u001B[39;00m\n\u001B[1;32m     15\u001B[0m \u001B[38;5;66;03m# im = cv2.filter2D(im, -1, kernel)\u001B[39;00m\n\u001B[1;32m     17\u001B[0m \u001B[38;5;28;01mif\u001B[39;00m state \u001B[38;5;241m==\u001B[39m \u001B[38;5;241m0\u001B[39m:\n\u001B[0;32m---> 18\u001B[0m     outputs, poi \u001B[38;5;241m=\u001B[39m \u001B[43mpose_tracker\u001B[49m\u001B[38;5;241;43m.\u001B[39;49m\u001B[43mupdate\u001B[49m\u001B[43m(\u001B[49m\u001B[43mim\u001B[49m\u001B[43m)\u001B[49m\n\u001B[1;32m     19\u001B[0m     pose_in_progress \u001B[38;5;241m=\u001B[39m \u001B[38;5;28;01mFalse\u001B[39;00m\n\u001B[1;32m     20\u001B[0m     \u001B[38;5;28;01mfor\u001B[39;00m i,  p \u001B[38;5;129;01min\u001B[39;00m pose_tracker\u001B[38;5;241m.\u001B[39msequence_detector\u001B[38;5;241m.\u001B[39mpeople\u001B[38;5;241m.\u001B[39mitems():\n",
      "File \u001B[0;32m~/DLFAV-PROJECT/pose_tracker.py:15\u001B[0m, in \u001B[0;36mPoseTracker.update\u001B[0;34m(self, im)\u001B[0m\n\u001B[1;32m     13\u001B[0m \u001B[38;5;28;01mdef\u001B[39;00m \u001B[38;5;21mupdate\u001B[39m(\u001B[38;5;28mself\u001B[39m, im): \n\u001B[1;32m     14\u001B[0m     \u001B[38;5;66;03m# Pose detector \u001B[39;00m\n\u001B[0;32m---> 15\u001B[0m     bboxes, pose \u001B[38;5;241m=\u001B[39m \u001B[38;5;28;43mself\u001B[39;49m\u001B[38;5;241;43m.\u001B[39;49m\u001B[43mpose_detector\u001B[49m\u001B[38;5;241;43m.\u001B[39;49m\u001B[43minference\u001B[49m\u001B[43m(\u001B[49m\u001B[43mim\u001B[49m\u001B[43m)\u001B[49m\n\u001B[1;32m     16\u001B[0m     \u001B[38;5;66;03m# Tracker\u001B[39;00m\n\u001B[1;32m     17\u001B[0m     outputs \u001B[38;5;241m=\u001B[39m np\u001B[38;5;241m.\u001B[39marray(\u001B[38;5;28mself\u001B[39m\u001B[38;5;241m.\u001B[39mtracker\u001B[38;5;241m.\u001B[39mupdate(im))\n",
      "File \u001B[0;32m~/DLFAV-PROJECT/pose_detector.py:51\u001B[0m, in \u001B[0;36mPoseDetector.inference\u001B[0;34m(self, frame)\u001B[0m\n\u001B[1;32m     49\u001B[0m \u001B[38;5;28;01mdef\u001B[39;00m \u001B[38;5;21minference\u001B[39m(\u001B[38;5;28mself\u001B[39m, frame):\n\u001B[1;32m     50\u001B[0m     \u001B[38;5;66;03m#openpifpaf does prediction\u001B[39;00m\n\u001B[0;32m---> 51\u001B[0m     \u001B[38;5;28mself\u001B[39m\u001B[38;5;241m.\u001B[39mopenpifpaf_predictions, _, _ \u001B[38;5;241m=\u001B[39m \u001B[38;5;28;43mself\u001B[39;49m\u001B[38;5;241;43m.\u001B[39;49m\u001B[43mopenpifpaf_predictor\u001B[49m\u001B[38;5;241;43m.\u001B[39;49m\u001B[43mnumpy_image\u001B[49m\u001B[43m(\u001B[49m\u001B[43mframe\u001B[49m\u001B[43m)\u001B[49m\n\u001B[1;32m     52\u001B[0m     \u001B[38;5;66;03m# get keypoints and bounding boxes\u001B[39;00m\n\u001B[1;32m     53\u001B[0m     \u001B[38;5;28mself\u001B[39m\u001B[38;5;241m.\u001B[39m_get_keypoints()\n",
      "File \u001B[0;32m~/miniconda3/envs/dlfav/lib/python3.9/site-packages/openpifpaf/predictor.py:179\u001B[0m, in \u001B[0;36mPredictor.numpy_image\u001B[0;34m(self, image)\u001B[0m\n\u001B[1;32m    177\u001B[0m \u001B[38;5;28;01mdef\u001B[39;00m \u001B[38;5;21mnumpy_image\u001B[39m(\u001B[38;5;28mself\u001B[39m, image):\n\u001B[1;32m    178\u001B[0m     \u001B[38;5;124;03m\"\"\"Predict from a numpy image.\"\"\"\u001B[39;00m\n\u001B[0;32m--> 179\u001B[0m     \u001B[38;5;28;01mreturn\u001B[39;00m \u001B[38;5;28;43mnext\u001B[39;49m\u001B[43m(\u001B[49m\u001B[38;5;28;43miter\u001B[39;49m\u001B[43m(\u001B[49m\u001B[38;5;28;43mself\u001B[39;49m\u001B[38;5;241;43m.\u001B[39;49m\u001B[43mnumpy_images\u001B[49m\u001B[43m(\u001B[49m\u001B[43m[\u001B[49m\u001B[43mimage\u001B[49m\u001B[43m]\u001B[49m\u001B[43m)\u001B[49m\u001B[43m)\u001B[49m\u001B[43m)\u001B[49m\n",
      "File \u001B[0;32m~/miniconda3/envs/dlfav/lib/python3.9/site-packages/openpifpaf/predictor.py:185\u001B[0m, in \u001B[0;36mPredictor.numpy_images\u001B[0;34m(self, numpy_images, **kwargs)\u001B[0m\n\u001B[1;32m    182\u001B[0m \u001B[38;5;124;03m\"\"\"Predict from numpy images.\"\"\"\u001B[39;00m\n\u001B[1;32m    183\u001B[0m data \u001B[38;5;241m=\u001B[39m datasets\u001B[38;5;241m.\u001B[39mNumpyImageList(\n\u001B[1;32m    184\u001B[0m     numpy_images, preprocess\u001B[38;5;241m=\u001B[39m\u001B[38;5;28mself\u001B[39m\u001B[38;5;241m.\u001B[39mpreprocess, with_raw_image\u001B[38;5;241m=\u001B[39m\u001B[38;5;28;01mTrue\u001B[39;00m)\n\u001B[0;32m--> 185\u001B[0m \u001B[38;5;28;01myield from\u001B[39;00m \u001B[38;5;28mself\u001B[39m\u001B[38;5;241m.\u001B[39mdataset(data, \u001B[38;5;241m*\u001B[39m\u001B[38;5;241m*\u001B[39mkwargs)\n",
      "File \u001B[0;32m~/miniconda3/envs/dlfav/lib/python3.9/site-packages/openpifpaf/predictor.py:116\u001B[0m, in \u001B[0;36mPredictor.dataset\u001B[0;34m(self, data)\u001B[0m\n\u001B[1;32m    108\u001B[0m     loader_workers \u001B[38;5;241m=\u001B[39m \u001B[38;5;28mself\u001B[39m\u001B[38;5;241m.\u001B[39mbatch_size \u001B[38;5;28;01mif\u001B[39;00m \u001B[38;5;28mlen\u001B[39m(data) \u001B[38;5;241m>\u001B[39m \u001B[38;5;241m1\u001B[39m \u001B[38;5;28;01melse\u001B[39;00m \u001B[38;5;241m0\u001B[39m\n\u001B[1;32m    110\u001B[0m dataloader \u001B[38;5;241m=\u001B[39m torch\u001B[38;5;241m.\u001B[39mutils\u001B[38;5;241m.\u001B[39mdata\u001B[38;5;241m.\u001B[39mDataLoader(\n\u001B[1;32m    111\u001B[0m     data, batch_size\u001B[38;5;241m=\u001B[39m\u001B[38;5;28mself\u001B[39m\u001B[38;5;241m.\u001B[39mbatch_size, shuffle\u001B[38;5;241m=\u001B[39m\u001B[38;5;28;01mFalse\u001B[39;00m,\n\u001B[1;32m    112\u001B[0m     pin_memory\u001B[38;5;241m=\u001B[39m\u001B[38;5;28mself\u001B[39m\u001B[38;5;241m.\u001B[39mdevice\u001B[38;5;241m.\u001B[39mtype \u001B[38;5;241m!=\u001B[39m \u001B[38;5;124m'\u001B[39m\u001B[38;5;124mcpu\u001B[39m\u001B[38;5;124m'\u001B[39m,\n\u001B[1;32m    113\u001B[0m     num_workers\u001B[38;5;241m=\u001B[39mloader_workers,\n\u001B[1;32m    114\u001B[0m     collate_fn\u001B[38;5;241m=\u001B[39mdatasets\u001B[38;5;241m.\u001B[39mcollate_images_anns_meta)\n\u001B[0;32m--> 116\u001B[0m \u001B[38;5;28;01myield from\u001B[39;00m \u001B[38;5;28mself\u001B[39m\u001B[38;5;241m.\u001B[39mdataloader(dataloader)\n",
      "File \u001B[0;32m~/miniconda3/envs/dlfav/lib/python3.9/site-packages/openpifpaf/predictor.py:155\u001B[0m, in \u001B[0;36mPredictor.dataloader\u001B[0;34m(self, dataloader)\u001B[0m\n\u001B[1;32m    153\u001B[0m \u001B[38;5;28;01mdef\u001B[39;00m \u001B[38;5;21mdataloader\u001B[39m(\u001B[38;5;28mself\u001B[39m, dataloader):\n\u001B[1;32m    154\u001B[0m     \u001B[38;5;124;03m\"\"\"Predict from a dataloader.\"\"\"\u001B[39;00m\n\u001B[0;32m--> 155\u001B[0m     \u001B[38;5;28;01myield from\u001B[39;00m \u001B[38;5;28mself\u001B[39m\u001B[38;5;241m.\u001B[39menumerated_dataloader(\u001B[38;5;28menumerate\u001B[39m(dataloader))\n",
      "File \u001B[0;32m~/miniconda3/envs/dlfav/lib/python3.9/site-packages/openpifpaf/predictor.py:129\u001B[0m, in \u001B[0;36mPredictor.enumerated_dataloader\u001B[0;34m(self, enumerated_dataloader)\u001B[0m\n\u001B[1;32m    126\u001B[0m \u001B[38;5;28;01mif\u001B[39;00m \u001B[38;5;28mself\u001B[39m\u001B[38;5;241m.\u001B[39mvisualize_processed_image:\n\u001B[1;32m    127\u001B[0m     visualizer\u001B[38;5;241m.\u001B[39mBase\u001B[38;5;241m.\u001B[39mprocessed_image(processed_image_batch[\u001B[38;5;241m0\u001B[39m])\n\u001B[0;32m--> 129\u001B[0m pred_batch \u001B[38;5;241m=\u001B[39m \u001B[38;5;28;43mself\u001B[39;49m\u001B[38;5;241;43m.\u001B[39;49m\u001B[43mprocessor\u001B[49m\u001B[38;5;241;43m.\u001B[39;49m\u001B[43mbatch\u001B[49m\u001B[43m(\u001B[49m\u001B[38;5;28;43mself\u001B[39;49m\u001B[38;5;241;43m.\u001B[39;49m\u001B[43mmodel\u001B[49m\u001B[43m,\u001B[49m\u001B[43m \u001B[49m\u001B[43mprocessed_image_batch\u001B[49m\u001B[43m,\u001B[49m\u001B[43m \u001B[49m\u001B[43mdevice\u001B[49m\u001B[38;5;241;43m=\u001B[39;49m\u001B[38;5;28;43mself\u001B[39;49m\u001B[38;5;241;43m.\u001B[39;49m\u001B[43mdevice\u001B[49m\u001B[43m)\u001B[49m\n\u001B[1;32m    130\u001B[0m \u001B[38;5;28mself\u001B[39m\u001B[38;5;241m.\u001B[39mlast_decoder_time \u001B[38;5;241m=\u001B[39m \u001B[38;5;28mself\u001B[39m\u001B[38;5;241m.\u001B[39mprocessor\u001B[38;5;241m.\u001B[39mlast_decoder_time\n\u001B[1;32m    131\u001B[0m \u001B[38;5;28mself\u001B[39m\u001B[38;5;241m.\u001B[39mlast_nn_time \u001B[38;5;241m=\u001B[39m \u001B[38;5;28mself\u001B[39m\u001B[38;5;241m.\u001B[39mprocessor\u001B[38;5;241m.\u001B[39mlast_nn_time\n",
      "File \u001B[0;32m~/miniconda3/envs/dlfav/lib/python3.9/site-packages/openpifpaf/decoder/decoder.py:117\u001B[0m, in \u001B[0;36mDecoder.batch\u001B[0;34m(self, model, image_batch, device, gt_anns_batch)\u001B[0m\n\u001B[1;32m    115\u001B[0m \u001B[38;5;124;03m\"\"\"From image batch straight to annotations batch.\"\"\"\u001B[39;00m\n\u001B[1;32m    116\u001B[0m start_nn \u001B[38;5;241m=\u001B[39m time\u001B[38;5;241m.\u001B[39mperf_counter()\n\u001B[0;32m--> 117\u001B[0m fields_batch \u001B[38;5;241m=\u001B[39m \u001B[38;5;28;43mself\u001B[39;49m\u001B[38;5;241;43m.\u001B[39;49m\u001B[43mfields_batch\u001B[49m\u001B[43m(\u001B[49m\u001B[43mmodel\u001B[49m\u001B[43m,\u001B[49m\u001B[43m \u001B[49m\u001B[43mimage_batch\u001B[49m\u001B[43m,\u001B[49m\u001B[43m \u001B[49m\u001B[43mdevice\u001B[49m\u001B[38;5;241;43m=\u001B[39;49m\u001B[43mdevice\u001B[49m\u001B[43m)\u001B[49m\n\u001B[1;32m    118\u001B[0m \u001B[38;5;28mself\u001B[39m\u001B[38;5;241m.\u001B[39mlast_nn_time \u001B[38;5;241m=\u001B[39m time\u001B[38;5;241m.\u001B[39mperf_counter() \u001B[38;5;241m-\u001B[39m start_nn\n\u001B[1;32m    120\u001B[0m \u001B[38;5;28;01mif\u001B[39;00m gt_anns_batch \u001B[38;5;129;01mis\u001B[39;00m \u001B[38;5;28;01mNone\u001B[39;00m:\n",
      "File \u001B[0;32m~/miniconda3/envs/dlfav/lib/python3.9/site-packages/openpifpaf/decoder/decoder.py:98\u001B[0m, in \u001B[0;36mDecoder.fields_batch\u001B[0;34m(cls, model, image_batch, device)\u001B[0m\n\u001B[1;32m     96\u001B[0m \u001B[38;5;28;01mwith\u001B[39;00m torch\u001B[38;5;241m.\u001B[39mautograd\u001B[38;5;241m.\u001B[39mprofiler\u001B[38;5;241m.\u001B[39mrecord_function(\u001B[38;5;124m'\u001B[39m\u001B[38;5;124mtonumpy\u001B[39m\u001B[38;5;124m'\u001B[39m):\n\u001B[1;32m     97\u001B[0m     \u001B[38;5;28;01mif\u001B[39;00m \u001B[38;5;28mcls\u001B[39m\u001B[38;5;241m.\u001B[39mtorch_decoder:\n\u001B[0;32m---> 98\u001B[0m         heads \u001B[38;5;241m=\u001B[39m \u001B[43mapply\u001B[49m\u001B[43m(\u001B[49m\u001B[38;5;28;43;01mlambda\u001B[39;49;00m\u001B[43m \u001B[49m\u001B[43mx\u001B[49m\u001B[43m:\u001B[49m\u001B[43m \u001B[49m\u001B[43mx\u001B[49m\u001B[38;5;241;43m.\u001B[39;49m\u001B[43mcpu\u001B[49m\u001B[43m(\u001B[49m\u001B[43m)\u001B[49m\u001B[43m,\u001B[49m\u001B[43m \u001B[49m\u001B[43mheads\u001B[49m\u001B[43m)\u001B[49m\n\u001B[1;32m     99\u001B[0m     \u001B[38;5;28;01melse\u001B[39;00m:\n\u001B[1;32m    100\u001B[0m         heads \u001B[38;5;241m=\u001B[39m apply(\u001B[38;5;28;01mlambda\u001B[39;00m x: x\u001B[38;5;241m.\u001B[39mcpu()\u001B[38;5;241m.\u001B[39mnumpy(), heads)\n",
      "File \u001B[0;32m~/miniconda3/envs/dlfav/lib/python3.9/site-packages/openpifpaf/decoder/decoder.py:85\u001B[0m, in \u001B[0;36mDecoder.fields_batch.<locals>.apply\u001B[0;34m(f, items)\u001B[0m\n\u001B[1;32m     83\u001B[0m     \u001B[38;5;28;01mreturn\u001B[39;00m \u001B[38;5;28;01mNone\u001B[39;00m\n\u001B[1;32m     84\u001B[0m \u001B[38;5;28;01mif\u001B[39;00m \u001B[38;5;28misinstance\u001B[39m(items, (\u001B[38;5;28mlist\u001B[39m, \u001B[38;5;28mtuple\u001B[39m)):\n\u001B[0;32m---> 85\u001B[0m     \u001B[38;5;28;01mreturn\u001B[39;00m [apply(f, i) \u001B[38;5;28;01mfor\u001B[39;00m i \u001B[38;5;129;01min\u001B[39;00m items]\n\u001B[1;32m     86\u001B[0m \u001B[38;5;28;01mreturn\u001B[39;00m f(items)\n",
      "File \u001B[0;32m~/miniconda3/envs/dlfav/lib/python3.9/site-packages/openpifpaf/decoder/decoder.py:85\u001B[0m, in \u001B[0;36m<listcomp>\u001B[0;34m(.0)\u001B[0m\n\u001B[1;32m     83\u001B[0m     \u001B[38;5;28;01mreturn\u001B[39;00m \u001B[38;5;28;01mNone\u001B[39;00m\n\u001B[1;32m     84\u001B[0m \u001B[38;5;28;01mif\u001B[39;00m \u001B[38;5;28misinstance\u001B[39m(items, (\u001B[38;5;28mlist\u001B[39m, \u001B[38;5;28mtuple\u001B[39m)):\n\u001B[0;32m---> 85\u001B[0m     \u001B[38;5;28;01mreturn\u001B[39;00m [\u001B[43mapply\u001B[49m\u001B[43m(\u001B[49m\u001B[43mf\u001B[49m\u001B[43m,\u001B[49m\u001B[43m \u001B[49m\u001B[43mi\u001B[49m\u001B[43m)\u001B[49m \u001B[38;5;28;01mfor\u001B[39;00m i \u001B[38;5;129;01min\u001B[39;00m items]\n\u001B[1;32m     86\u001B[0m \u001B[38;5;28;01mreturn\u001B[39;00m f(items)\n",
      "File \u001B[0;32m~/miniconda3/envs/dlfav/lib/python3.9/site-packages/openpifpaf/decoder/decoder.py:86\u001B[0m, in \u001B[0;36mDecoder.fields_batch.<locals>.apply\u001B[0;34m(f, items)\u001B[0m\n\u001B[1;32m     84\u001B[0m \u001B[38;5;28;01mif\u001B[39;00m \u001B[38;5;28misinstance\u001B[39m(items, (\u001B[38;5;28mlist\u001B[39m, \u001B[38;5;28mtuple\u001B[39m)):\n\u001B[1;32m     85\u001B[0m     \u001B[38;5;28;01mreturn\u001B[39;00m [apply(f, i) \u001B[38;5;28;01mfor\u001B[39;00m i \u001B[38;5;129;01min\u001B[39;00m items]\n\u001B[0;32m---> 86\u001B[0m \u001B[38;5;28;01mreturn\u001B[39;00m \u001B[43mf\u001B[49m\u001B[43m(\u001B[49m\u001B[43mitems\u001B[49m\u001B[43m)\u001B[49m\n",
      "File \u001B[0;32m~/miniconda3/envs/dlfav/lib/python3.9/site-packages/openpifpaf/decoder/decoder.py:98\u001B[0m, in \u001B[0;36mDecoder.fields_batch.<locals>.<lambda>\u001B[0;34m(x)\u001B[0m\n\u001B[1;32m     96\u001B[0m \u001B[38;5;28;01mwith\u001B[39;00m torch\u001B[38;5;241m.\u001B[39mautograd\u001B[38;5;241m.\u001B[39mprofiler\u001B[38;5;241m.\u001B[39mrecord_function(\u001B[38;5;124m'\u001B[39m\u001B[38;5;124mtonumpy\u001B[39m\u001B[38;5;124m'\u001B[39m):\n\u001B[1;32m     97\u001B[0m     \u001B[38;5;28;01mif\u001B[39;00m \u001B[38;5;28mcls\u001B[39m\u001B[38;5;241m.\u001B[39mtorch_decoder:\n\u001B[0;32m---> 98\u001B[0m         heads \u001B[38;5;241m=\u001B[39m apply(\u001B[38;5;28;01mlambda\u001B[39;00m x: \u001B[43mx\u001B[49m\u001B[38;5;241;43m.\u001B[39;49m\u001B[43mcpu\u001B[49m\u001B[43m(\u001B[49m\u001B[43m)\u001B[49m, heads)\n\u001B[1;32m     99\u001B[0m     \u001B[38;5;28;01melse\u001B[39;00m:\n\u001B[1;32m    100\u001B[0m         heads \u001B[38;5;241m=\u001B[39m apply(\u001B[38;5;28;01mlambda\u001B[39;00m x: x\u001B[38;5;241m.\u001B[39mcpu()\u001B[38;5;241m.\u001B[39mnumpy(), heads)\n",
      "\u001B[0;31mKeyboardInterrupt\u001B[0m: "
     ]
    }
   ],
   "source": [
    "state = 0\n",
    "poi = None\n",
    "\n",
    "while True:\n",
    "    _, img = cap.read()\n",
    "    if img is None:\n",
    "        break\n",
    "\n",
    "    ## Downsize from the Loomo robot\n",
    "    im = imutils.resize(img, height=120)\n",
    "\n",
    "    # Image preprocessing\n",
    "    im = upscaler.enhance(im)\n",
    "    im = imutils.resize(im, height=500, inter=cv2.INTER_BITS2)\n",
    "    kernel = np.array([[-1,-1,-1], [-1,9,-1], [-1,-1,-1]])\n",
    "    im = cv2.filter2D(im, -1, kernel)\n",
    "\n",
    "    # FSM\n",
    "    if state == 0:\n",
    "        outputs, poi = pose_tracker.update(im)\n",
    "        pose_in_progress = False\n",
    "        for i,  p in pose_tracker.sequence_detector.people.items():\n",
    "            if (p.i_seq > 0) and (i != poi):\n",
    "                pose_in_progress = True\n",
    "                break\n",
    "        if (poi != None) and (not pose_in_progress):\n",
    "            last_detected = time.time()\n",
    "            state = 1\n",
    "    if state == 1:\n",
    "        check_poi = 0\n",
    "        outputs = np.array(pose_tracker.tracker.update(im))\n",
    "        for i in range(outputs.shape[0]) :\n",
    "            if outputs[i,4] ==poi:\n",
    "                check_poi = 1\n",
    "        if (check_poi == 0) or (time.time()-last_detected >1):\n",
    "            state = 0\n",
    "    visualize(im, outputs, poi)\n"
   ],
   "metadata": {
    "collapsed": false,
    "pycharm": {
     "name": "#%%\n"
    }
   }
  },
  {
   "cell_type": "markdown",
   "source": [],
   "metadata": {
    "collapsed": false,
    "pycharm": {
     "name": "#%% md\n"
    }
   }
  }
 ],
 "metadata": {
  "kernelspec": {
   "display_name": "Python 3 (ipykernel)",
   "language": "python",
   "name": "python3"
  },
  "language_info": {
   "codemirror_mode": {
    "name": "ipython",
    "version": 3
   },
   "file_extension": ".py",
   "mimetype": "text/x-python",
   "name": "python",
   "nbconvert_exporter": "python",
   "pygments_lexer": "ipython3",
   "version": "3.9.12"
  }
 },
 "nbformat": 4,
 "nbformat_minor": 4
}