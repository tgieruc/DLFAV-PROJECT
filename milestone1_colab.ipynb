{
 "cells": [
  {
   "cell_type": "markdown",
   "metadata": {
    "id": "DYCfBZON6Dsp",
    "pycharm": {
     "name": "#%% md\n"
    }
   },
   "source": [
    "# Install and import openpifpaf and prediction model\n"
   ]
  },
  {
   "cell_type": "code",
   "execution_count": null,
   "metadata": {
    "colab": {
     "background_save": true,
     "base_uri": "https://localhost:8080/"
    },
    "id": "Gid3nQuKBAec",
    "outputId": "8acf4376-311d-4c66-b76c-0995491e5d54",
    "pycharm": {
     "name": "#%%\n"
    }
   },
   "outputs": [
    {
     "name": "stdout",
     "output_type": "stream",
     "text": [
      "Requirement already satisfied: torch in /usr/local/lib/python3.7/dist-packages (1.11.0+cu113)\n",
      "Requirement already satisfied: typing-extensions in /usr/local/lib/python3.7/dist-packages (from torch) (4.2.0)\n",
      "Requirement already satisfied: torchtext in /usr/local/lib/python3.7/dist-packages (0.12.0)\n",
      "Requirement already satisfied: requests in /usr/local/lib/python3.7/dist-packages (from torchtext) (2.23.0)\n",
      "Requirement already satisfied: numpy in /usr/local/lib/python3.7/dist-packages (from torchtext) (1.21.6)\n",
      "Requirement already satisfied: torch==1.11.0 in /usr/local/lib/python3.7/dist-packages (from torchtext) (1.11.0+cu113)\n",
      "Requirement already satisfied: tqdm in /usr/local/lib/python3.7/dist-packages (from torchtext) (4.64.0)\n",
      "Requirement already satisfied: typing-extensions in /usr/local/lib/python3.7/dist-packages (from torch==1.11.0->torchtext) (4.2.0)\n",
      "Requirement already satisfied: certifi>=2017.4.17 in /usr/local/lib/python3.7/dist-packages (from requests->torchtext) (2021.10.8)\n",
      "Requirement already satisfied: idna<3,>=2.5 in /usr/local/lib/python3.7/dist-packages (from requests->torchtext) (2.10)\n",
      "Requirement already satisfied: chardet<4,>=3.0.2 in /usr/local/lib/python3.7/dist-packages (from requests->torchtext) (3.0.4)\n",
      "Requirement already satisfied: urllib3!=1.25.0,!=1.25.1,<1.26,>=1.21.1 in /usr/local/lib/python3.7/dist-packages (from requests->torchtext) (1.24.3)\n",
      "Requirement already satisfied: torchvision in /usr/local/lib/python3.7/dist-packages (0.12.0+cu113)\n",
      "Requirement already satisfied: pillow!=8.3.*,>=5.3.0 in /usr/local/lib/python3.7/dist-packages (from torchvision) (7.1.2)\n",
      "Requirement already satisfied: torch==1.11.0 in /usr/local/lib/python3.7/dist-packages (from torchvision) (1.11.0+cu113)\n",
      "Requirement already satisfied: numpy in /usr/local/lib/python3.7/dist-packages (from torchvision) (1.21.6)\n",
      "Requirement already satisfied: typing-extensions in /usr/local/lib/python3.7/dist-packages (from torchvision) (4.2.0)\n",
      "Requirement already satisfied: requests in /usr/local/lib/python3.7/dist-packages (from torchvision) (2.23.0)\n",
      "Requirement already satisfied: urllib3!=1.25.0,!=1.25.1,<1.26,>=1.21.1 in /usr/local/lib/python3.7/dist-packages (from requests->torchvision) (1.24.3)\n",
      "Requirement already satisfied: idna<3,>=2.5 in /usr/local/lib/python3.7/dist-packages (from requests->torchvision) (2.10)\n",
      "Requirement already satisfied: chardet<4,>=3.0.2 in /usr/local/lib/python3.7/dist-packages (from requests->torchvision) (3.0.4)\n",
      "Requirement already satisfied: certifi>=2017.4.17 in /usr/local/lib/python3.7/dist-packages (from requests->torchvision) (2021.10.8)\n",
      "Collecting openpifpaf\n",
      "  Downloading openpifpaf-0.13.3.tar.gz (224 kB)\n",
      "\u001B[K     |████████████████████████████████| 224 kB 9.8 MB/s \n",
      "\u001B[?25h  Installing build dependencies ... \u001B[?25l\u001B[?25hdone\n",
      "  Getting requirements to build wheel ... \u001B[?25l\u001B[?25hdone\n",
      "    Preparing wheel metadata ... \u001B[?25l\u001B[?25hdone\n",
      "Collecting pysparkling\n",
      "  Downloading pysparkling-0.6.1.tar.gz (166 kB)\n",
      "\u001B[K     |████████████████████████████████| 166 kB 61.7 MB/s \n",
      "\u001B[?25hRequirement already satisfied: numpy>=1.16 in /usr/local/lib/python3.7/dist-packages (from openpifpaf) (1.21.6)\n",
      "Requirement already satisfied: pillow!=8.3.0 in /usr/local/lib/python3.7/dist-packages (from openpifpaf) (7.1.2)\n",
      "Requirement already satisfied: importlib-metadata!=3.8.0 in /usr/local/lib/python3.7/dist-packages (from openpifpaf) (4.11.3)\n",
      "Requirement already satisfied: torch==1.11.0 in /usr/local/lib/python3.7/dist-packages (from openpifpaf) (1.11.0+cu113)\n",
      "Collecting python-json-logger\n",
      "  Downloading python_json_logger-2.0.2-py3-none-any.whl (7.4 kB)\n",
      "Requirement already satisfied: torchvision==0.12.0 in /usr/local/lib/python3.7/dist-packages (from openpifpaf) (0.12.0+cu113)\n",
      "Requirement already satisfied: typing-extensions in /usr/local/lib/python3.7/dist-packages (from torch==1.11.0->openpifpaf) (4.2.0)\n",
      "Requirement already satisfied: requests in /usr/local/lib/python3.7/dist-packages (from torchvision==0.12.0->openpifpaf) (2.23.0)\n",
      "Requirement already satisfied: zipp>=0.5 in /usr/local/lib/python3.7/dist-packages (from importlib-metadata!=3.8.0->openpifpaf) (3.8.0)\n",
      "Collecting boto>=2.36.0\n",
      "  Downloading boto-2.49.0-py2.py3-none-any.whl (1.4 MB)\n",
      "\u001B[K     |████████████████████████████████| 1.4 MB 62.3 MB/s \n",
      "\u001B[?25hRequirement already satisfied: future>=0.15 in /usr/local/lib/python3.7/dist-packages (from pysparkling->openpifpaf) (0.16.0)\n",
      "Requirement already satisfied: pytz>=2019.3 in /usr/local/lib/python3.7/dist-packages (from pysparkling->openpifpaf) (2022.1)\n",
      "Requirement already satisfied: python-dateutil>=2.8.0 in /usr/local/lib/python3.7/dist-packages (from pysparkling->openpifpaf) (2.8.2)\n",
      "Requirement already satisfied: six>=1.5 in /usr/local/lib/python3.7/dist-packages (from python-dateutil>=2.8.0->pysparkling->openpifpaf) (1.15.0)\n",
      "Requirement already satisfied: certifi>=2017.4.17 in /usr/local/lib/python3.7/dist-packages (from requests->torchvision==0.12.0->openpifpaf) (2021.10.8)\n",
      "Requirement already satisfied: chardet<4,>=3.0.2 in /usr/local/lib/python3.7/dist-packages (from requests->torchvision==0.12.0->openpifpaf) (3.0.4)\n",
      "Requirement already satisfied: idna<3,>=2.5 in /usr/local/lib/python3.7/dist-packages (from requests->torchvision==0.12.0->openpifpaf) (2.10)\n",
      "Requirement already satisfied: urllib3!=1.25.0,!=1.25.1,<1.26,>=1.21.1 in /usr/local/lib/python3.7/dist-packages (from requests->torchvision==0.12.0->openpifpaf) (1.24.3)\n",
      "Building wheels for collected packages: openpifpaf, pysparkling\n",
      "  Building wheel for openpifpaf (PEP 517) ... \u001B[?25l\u001B[?25hdone\n",
      "  Created wheel for openpifpaf: filename=openpifpaf-0.13.3-cp37-cp37m-linux_x86_64.whl size=8277145 sha256=587b9e7d429793cd162b60cbe03699519719ec87291e3ca902a4f544509cbe02\n",
      "  Stored in directory: /root/.cache/pip/wheels/23/47/d0/323157ebf9020a79369d7c33f500b62b8c7e1a5381fcf036ed\n",
      "  Building wheel for pysparkling (setup.py) ... \u001B[?25l\u001B[?25hdone\n",
      "  Created wheel for pysparkling: filename=pysparkling-0.6.1-py3-none-any.whl size=187580 sha256=ee7b91ab3b8e6be166d9fd0d596e178c60ba5c2c905da8cba28a6617cc4b05b9\n",
      "  Stored in directory: /root/.cache/pip/wheels/c8/2e/ac/5336e8ec240e9895bf4f142026f16d0d442af578d339c44aa0\n",
      "Successfully built openpifpaf pysparkling\n",
      "Installing collected packages: boto, python-json-logger, pysparkling, openpifpaf\n",
      "Successfully installed boto-2.49.0 openpifpaf-0.13.3 pysparkling-0.6.1 python-json-logger-2.0.2\n"
     ]
    }
   ],
   "source": [
    "!pip install --upgrade torch\n",
    "!pip install --upgrade torchtext\n",
    "!pip install --upgrade torchvision\n",
    "!pip install --upgrade openpifpaf"
   ]
  },
  {
   "cell_type": "code",
   "execution_count": null,
   "metadata": {
    "colab": {
     "background_save": true
    },
    "id": "r9U7cGupAsET",
    "outputId": "c833fcb0-4a0c-4995-8f08-621f615ab89e",
    "pycharm": {
     "name": "#%%\n"
    }
   },
   "outputs": [
    {
     "name": "stdout",
     "output_type": "stream",
     "text": [
      "Device used: cuda:0\n",
      "OpenPifPaf version 0.13.3\n"
     ]
    }
   ],
   "source": [
    "import numpy as np\n",
    "import pandas as pd \n",
    "import matplotlib.pyplot as plt\n",
    "import torch\n",
    "import torchvision\n",
    "import torchtext\n",
    "import io\n",
    "import openpifpaf\n",
    "import PIL\n",
    "import requests\n",
    "import cv2\n",
    "from google.colab.output import eval_js\n",
    "# import dependencies\n",
    "from IPython.display import display, Javascript, Image, clear_output\n",
    "from base64 import b64decode, b64encode\n",
    "import html\n",
    "import time\n",
    "\n",
    "from torch.nn import functional as F\n",
    "import copy\n",
    "\n",
    "device = torch.device(\"cuda:0\" if torch.cuda.is_available() else \"cpu\")\n",
    "print(F'Device used: {device}')\n",
    "\n",
    "print('OpenPifPaf version', openpifpaf.__version__)"
   ]
  },
  {
   "cell_type": "code",
   "execution_count": null,
   "metadata": {
    "colab": {
     "base_uri": "https://localhost:8080/"
    },
    "executionInfo": {
     "elapsed": 13158,
     "status": "ok",
     "timestamp": 1651126206540,
     "user": {
      "displayName": "Théo Gieruc",
      "userId": "10442774112210424346"
     },
     "user_tz": -120
    },
    "id": "NqsogT91OSyH",
    "outputId": "cc8f68df-2938-4683-9ac7-077cdb05f2c2",
    "pycharm": {
     "name": "#%%\n"
    }
   },
   "outputs": [
    {
     "name": "stdout",
     "output_type": "stream",
     "text": [
      "/usr/local/lib/python3.7/dist-packages/gdown/cli.py:131: FutureWarning: Option `--id` was deprecated in version 4.3.1 and will be removed in 5.0. You don't need to pass it anymore to use a file ID.\n",
      "  category=FutureWarning,\n",
      "Downloading...\n",
      "From: https://drive.google.com/uc?id=1iYxlkO_RZJ_6iL6wdIbfjl8VprLlFp1c\n",
      "To: /content/pose_classification_simplified.ckpt\n",
      "100% 2.98k/2.98k [00:00<00:00, 5.68MB/s]\n"
     ]
    }
   ],
   "source": [
    "# Import PyDrive and associated libraries.\n",
    "# This only needs to be done once per notebook.\n",
    "from pydrive.auth import GoogleAuth\n",
    "from pydrive.drive import GoogleDrive\n",
    "from google.colab import auth\n",
    "from oauth2client.client import GoogleCredentials\n",
    "\n",
    "# Authenticate and create the PyDrive client.\n",
    "# This only needs to be done once per notebook.\n",
    "auth.authenticate_user()\n",
    "gauth = GoogleAuth()\n",
    "gauth.credentials = GoogleCredentials.get_application_default()\n",
    "drive = GoogleDrive(gauth)\n",
    "\n",
    "!gdown --id 1iYxlkO_RZJ_6iL6wdIbfjl8VprLlFp1c\n",
    "\n"
   ]
  },
  {
   "cell_type": "markdown",
   "metadata": {
    "id": "4eBcE3NMAah2",
    "pycharm": {
     "name": "#%% md\n"
    }
   },
   "source": [
    "# Schematics\n",
    "\n",
    "![global_schematics.jpeg](data:image/jpeg;base64,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)\n",
    "\n",
    "\n",
    "## Pose estimation:\n",
    "![pose_detection_explained.jpeg](data:image/jpeg;base64,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)"
   ]
  },
  {
   "cell_type": "markdown",
   "metadata": {
    "id": "I8r5D9YcLpBG",
    "pycharm": {
     "name": "#%% md\n"
    }
   },
   "source": [
    "## Classes\n",
    "### KeypointToPoseNet : the deep net module, keypoints -> positions"
   ]
  },
  {
   "cell_type": "code",
   "execution_count": null,
   "metadata": {
    "id": "cRtogSJ8L0Tu",
    "pycharm": {
     "name": "#%%\n"
    }
   },
   "outputs": [],
   "source": [
    "class KeypointToPoseNet(torch.nn.Module):\n",
    "    \"\"\"Fully connected linear net to classify human pose from keypoints\"\"\"\n",
    "    def __init__(self, n_feature, n_output):\n",
    "        super(KeypointToPoseNet, self).__init__()\n",
    "        self.fc1 = torch.nn.Linear(n_feature, 32)\n",
    "        self.fc3 = torch.nn.Linear(32, n_output)\n",
    "\n",
    "\n",
    "    def forward(self, x):\n",
    "        x = x.view(x.size(0), -1)\n",
    "\n",
    "        x = self.fc1(x)\n",
    "        x = F.relu(x)\n",
    "        x = self.fc3(x)\n",
    "        return x"
   ]
  },
  {
   "cell_type": "markdown",
   "metadata": {
    "id": "FcI7fGUWOu2K",
    "pycharm": {
     "name": "#%% md\n"
    }
   },
   "source": [
    "### KeypointIdentifier : Creates an unique identifier/person detected, in order to track them through time"
   ]
  },
  {
   "cell_type": "code",
   "execution_count": null,
   "metadata": {
    "id": "HqgiFKJ3Ou-E",
    "pycharm": {
     "name": "#%%\n"
    }
   },
   "outputs": [],
   "source": [
    "class KeypointIdentifier(object):\n",
    "    \"\"\"Gives an unique id for every detected person\"\"\"\n",
    "    def __init__(self, threshold):\n",
    "        self.old_predictions = None\n",
    "        self.center = None\n",
    "        self.id = np.array([])\n",
    "        self.threshold = threshold\n",
    "\n",
    "    def update(self, new_prediction):\n",
    "        # if nothing detected, reset\n",
    "        if len(new_prediction) == 0:\n",
    "            self.old_predictions = None\n",
    "            self.center = None\n",
    "            self.id = np.array([])\n",
    "        else :\n",
    "            # if no predictions was done, initialize\n",
    "            if self.old_predictions is None:\n",
    "                self._initialize(new_prediction)\n",
    "            else:\n",
    "                self._update_predictions(new_prediction)\n",
    "\n",
    "    def _initialize(self, new_prediction):\n",
    "            self.old_predictions = new_prediction\n",
    "            self.id = np.arange(len(new_prediction))\n",
    "            self.center = np.zeros((len(new_prediction),2))\n",
    "            for i in self.id:\n",
    "                self.center[i] = new_prediction[i].data[5:7,:2].mean(axis=0)\n",
    "\n",
    "    def _update_predictions(self, new_prediction):\n",
    "        new_center = np.zeros((len(new_prediction),2))\n",
    "        new_id = np.arange(max(self.id)+1, max(self.id)+1 + len(new_prediction))\n",
    "        for i in range(len(new_prediction)):\n",
    "            new_center[i] = new_prediction[i].data[5:7,:2].mean(axis=0)\n",
    "            for idx, center in enumerate(self.center):\n",
    "                if np.linalg.norm(new_center[i] - center) < self.threshold:\n",
    "                    new_id[i] = self.id[idx]\n",
    "        self.id = new_id\n",
    "        self.center = new_center\n"
   ]
  },
  {
   "cell_type": "markdown",
   "metadata": {
    "id": "FD7tJjhlL_wZ",
    "pycharm": {
     "name": "#%% md\n"
    }
   },
   "source": [
    "### PoseDetector: handles all the pose detection"
   ]
  },
  {
   "cell_type": "code",
   "execution_count": null,
   "metadata": {
    "id": "0HMj0G1OL_d-",
    "pycharm": {
     "name": "#%%\n"
    }
   },
   "outputs": [],
   "source": [
    "class PoseDetector(object):\n",
    "    \"\"\"Given an image, it detects humans and their body position\"\"\"\n",
    "    def __init__(self, n_feature, n_output, checkpoint_path, simple_mode=True, model_based=False):\n",
    "        self.keypoint_to_pose_net = KeypointToPoseNet(n_feature=n_feature, n_output=n_output).cuda(device)\n",
    "        self.keypoint_to_pose_net.load_state_dict(torch.load(checkpoint_path))\n",
    "\n",
    "        self.keypoint_identifier = KeypointIdentifier(100)\n",
    "\n",
    "        self.openpifpaf_predictor = openpifpaf.Predictor(checkpoint='shufflenetv2k30')\n",
    "\n",
    "        self.simple_mode = simple_mode\n",
    "        self.model_based = model_based\n",
    "\n",
    "        self.openpifpaf_predictions = None\n",
    "        self.openpifpaf_predictions_filtered = None\n",
    "        self.pose_predictions = None\n",
    "        self.identifiers = None\n",
    "        self.centers = None\n",
    "        self.bboxes = None\n",
    "\n",
    "\n",
    "    def detection(self, frame):\n",
    "        #openpifpaf does prediction\n",
    "        self.openpifpaf_predictions, _, _ = self.openpifpaf_predictor.numpy_image(frame)\n",
    "        #filter the predictions (have to see at least both wrists, elbows and shoulders)\n",
    "        self._keypoint_filtering()\n",
    "        # match an unique identifier to each element\n",
    "        self.keypoint_identifier.update(self.openpifpaf_predictions_filtered)\n",
    "        # predicts the pose of each person\n",
    "        self._keypoints_to_pose()\n",
    "        # get bounding boxes\n",
    "        self._get_bboxes()\n",
    "\n",
    "\n",
    "    def _keypoints_to_pose(self):\n",
    "        n_predictions = len(self.openpifpaf_predictions_filtered)\n",
    "        self.pose_predictions = np.zeros(n_predictions, dtype=int)\n",
    "        if self.simple_mode:\n",
    "            ind = np.arange(5,9)\n",
    "        else:\n",
    "            ind = np.arange(5,11)\n",
    "\n",
    "        if self.model_based:\n",
    "            lim1 = [3.3, 2.7, 2.3, 1.7, 3.2, 2.7, 3.2, 2.7] # angle limits for pose 1 (L)\n",
    "            lim2 = [2.3, 1.7, 3.3, 2.7, 3.2, 2.7, 3.2, 2.7] # angle limits for pose 2 (invL)\n",
    "            for i in range(n_predictions):\n",
    "                p = self.openpifpaf_predictions_filtered[i].data[ind]\n",
    "                if self.simple_mode:\n",
    "                    v = [p[0]-p[1],p[2]-p[0],p[3]-p[1]]\n",
    "                    v = np.array([v[j] / np.linalg.norm(v[j]) for j in range(len(v))])\n",
    "                    a1 = np.pi - np.arccos(np.dot(v[1],v[0])) # rsh lsh lel\n",
    "                    a2 = np.pi - np.arccos(np.dot(-v[2],v[0])) # lsh rsh rel\n",
    "                    if p[0,1] < p[2,1]:\n",
    "                        a1 = 2*np.pi - a1\n",
    "                    if p[1,1] < p[3,1]:\n",
    "                        a2 = 2*np.pi - a2\n",
    "                    a = [a1, a2]\n",
    "                    if a[0] < lim1[0] and a[0] > lim1[1] and \\\n",
    "                      a[1] < lim1[2] and a[1] > lim1[3]:\n",
    "                        self.pose_predictions[i] = 1\n",
    "                    elif a[0] < lim2[0] and a[0] > lim2[1] and \\\n",
    "                      a[1] < lim2[2] and a[1] > lim2[3]:\n",
    "                        self.pose_predictions[i] = 2\n",
    "                    else:\n",
    "                      self.pose_predictions[i] = 0\n",
    "                else:\n",
    "                    v = [p[0]-p[1],p[2]-p[0],p[4]-p[2],p[3]-p[1],p[5]-p[3]]\n",
    "                    v = np.array([v[j] / np.linalg.norm(v[j]) for j in range(len(v))])\n",
    "                    a1 = np.pi - np.arccos(np.dot(v[1],v[0])) # rsh lsh lel\n",
    "                    a2 = np.pi - np.arccos(np.dot(-v[3],v[0])) # lsh rsh rel\n",
    "                    a3 = np.pi - np.arccos(np.dot(v[2],v[1])) # lsh lel lwr\n",
    "                    a4 = np.pi - np.arccos(np.dot(v[4],v[3])) # rsh rel rwr\n",
    "                    if p[0,1] < p[2,1]:\n",
    "                        a1 = 2*np.pi - a1\n",
    "                    if p[1,1] < p[3,1]:\n",
    "                        a2 = 2*np.pi - a2\n",
    "                    if p[2,1] < p[4,1]:\n",
    "                        a3 = 2*np.pi - a3\n",
    "                    if p[3,1] < p[5,1]:\n",
    "                        a4 = 2*np.pi - a4\n",
    "                    a = [a1, a2, a3, a4]\n",
    "                    if a[0] < lim1[0] and a[0] > lim1[1] and \\\n",
    "                      a[1] < lim1[2] and a[1] > lim1[3] and \\\n",
    "                      a[2] < lim1[4] and a[2] > lim1[5] and \\\n",
    "                      a[3] < lim1[6] and a[3] > lim1[7]:\n",
    "                        self.pose_predictions[i] = 1\n",
    "                    elif a[0] < lim2[0] and a[0] > lim2[1] and \\\n",
    "                      a[1] < lim2[2] and a[1] > lim2[3]and \\\n",
    "                      a[2] < lim2[4] and a[2] > lim2[5] and \\\n",
    "                      a[3] < lim2[6] and a[3] > lim2[7]:\n",
    "                        self.pose_predictions[i] = 2\n",
    "                    else:\n",
    "                      self.pose_predictions[i] = 0\n",
    "\n",
    "        else:           \n",
    "          for i in range(n_predictions):\n",
    "              keypoints = self.openpifpaf_predictions_filtered[i].data[ind]\n",
    "              keypoints = keypoints[:,:2].copy()\n",
    "              keypoints -= keypoints.mean(axis=0) \n",
    "              keypoints /= keypoints.std(axis=0)\n",
    "              keypoints = keypoints.reshape(1,-1)\n",
    "              _, pred = torch.max(F.softmax(self.keypoint_to_pose_net(torch.from_numpy(keypoints.astype(np.float32)).cuda(device))).data, dim=1)\n",
    "              self.pose_predictions[i] = pred.int().cpu()\n",
    "\n",
    "    def _get_bboxes(self):\n",
    "        n_predictions = len(self.openpifpaf_predictions_filtered)\n",
    "        self.bboxes = np.zeros((n_predictions,4))\n",
    "\n",
    "        for i in range(n_predictions):\n",
    "            self.bboxes[i] = self.openpifpaf_predictions_filtered[i].bbox()\n",
    "\n",
    "\n",
    "    def _keypoint_filtering(self):\n",
    "        self.openpifpaf_predictions_filtered = copy.deepcopy(self.openpifpaf_predictions)\n",
    "\n",
    "        def fn(prediction):\n",
    "          if self.simple_mode:\n",
    "            return (prediction.data[5:9,2] > 0.5).all()\n",
    "          else:\n",
    "            return (prediction.data[5:11,2] > 0.5).all()\n",
    "\n",
    "        self.openpifpaf_predictions_filtered =  list(filter(fn, self.openpifpaf_predictions_filtered))"
   ]
  },
  {
   "cell_type": "markdown",
   "metadata": {
    "id": "w84lICK_MGvX",
    "pycharm": {
     "name": "#%% md\n"
    }
   },
   "source": [
    "## Sequence detector: detects sequence of poses"
   ]
  },
  {
   "cell_type": "code",
   "execution_count": null,
   "metadata": {
    "id": "3q9XlnvLL4hp",
    "pycharm": {
     "name": "#%%\n"
    }
   },
   "outputs": [],
   "source": [
    "class SequenceDetector(object):\n",
    "    \"\"\"Given an image, it detects a sequence of poses\"\"\"\n",
    "    def __init__(self, n_feature, n_output, checkpoint_path, sequence, reset_time, simple_mode=True, model_based=False, face_bbox=False, face_tightness=1):\n",
    "        self.pose_detector = PoseDetector(n_feature=n_feature, n_output=n_output, checkpoint_path=checkpoint_path, simple_mode=simple_mode, model_based=model_based)\n",
    "        self.sequence = sequence\n",
    "        self.reset_time = reset_time\n",
    "        self.face_bbox = face_bbox\n",
    "        self.face_tightness = face_tightness\n",
    "\n",
    "        self.i_seq = np.array([]) # array containing position in sequence\n",
    "        self.id_prev = np.array([]) # array containing id of prediction\n",
    "        self.t_prev = np.array([]) # array containing time since last corresponding pose detected in sequence\n",
    "        self.bbox = np.array([]) # bounding box \n",
    "\n",
    "    def detection(self, frame): \n",
    "        self.pose_detector.detection(frame=frame)\n",
    "        if self.id_prev.size == 0:\n",
    "            self.reset()\n",
    "        else:\n",
    "            self.update()\n",
    "            \n",
    "    def update_att(self):\n",
    "        # delete unecessary i_seq, id_prev if id_prev is not in pose_detector's id list\n",
    "        self.id_prev, _, idx = np.intersect1d(self.pose_detector.keypoint_identifier.id,self.id_prev,return_indices=True)\n",
    "        if idx.size == 0:\n",
    "            self.i_seq = np.array([0])\n",
    "            self.t_prev = time.time()\n",
    "        else:\n",
    "            self.i_seq = self.i_seq[idx]\n",
    "            self.t_prev = self.t_prev[idx]\n",
    "        # add new ids\n",
    "        if len(self.id_prev) < len(self.pose_detector.keypoint_identifier.id):\n",
    "            self.i_seq = np.append(self.i_seq, np.zeros(len(self.pose_detector.keypoint_identifier.id) - len(self.id_prev)))\n",
    "            self.t_prev = np.append(self.t_prev, np.repeat(time.time(),len(self.pose_detector.keypoint_identifier.id) - len(self.id_prev)))\n",
    "            self.id_prev = np.array(self.pose_detector.keypoint_identifier.id)\n",
    "\n",
    "    def reset(self):\n",
    "        if len(self.pose_detector.pose_predictions) == 0:\n",
    "            self.i_seq = np.array([0])\n",
    "            self.id_prev = np.array([0])\n",
    "            self.t_prev = np.array([time.time()])\n",
    "        else:\n",
    "            self.i_seq = np.zeros(len(self.pose_detector.pose_predictions))\n",
    "            self.id_prev = self.pose_detector.keypoint_identifier.id\n",
    "            self.t_prev = np.repeat(time.time(),len(self.pose_detector.pose_predictions))\n",
    "    \n",
    "    def get_bbox(self,i):\n",
    "        if self.face_bbox and not (self.pose_detector.openpifpaf_predictions_filtered[i].data[:3,:2]==0).any(): # if eyes and nose not detected, defaults to regular bbox\n",
    "            face = self.pose_detector.openpifpaf_predictions_filtered[i].data[:5,:2]\n",
    "            d_eyes = np.linalg.norm(face[1] - face[2])\n",
    "            if (face[3]==0.0).any() and (face[4]==0.0).any(): # no ears\n",
    "                d_ears = 2*d_eyes\n",
    "            elif (face[3]==0.0).any(): # no left ear\n",
    "                d_ears = np.linalg.norm(face[1] - face[4])\n",
    "            elif (face[4]==0.0).any(): # no right ear\n",
    "                d_ears = np.linalg.norm(face[2] - face[3])\n",
    "            else:\n",
    "                d_ears = np.linalg.norm(face[3] - face[4])\n",
    "            w = (d_ears)*self.face_tightness\n",
    "            h = (d_ears + d_eyes)*self.face_tightness\n",
    "            x = face[0,0] - 1/2*w\n",
    "            y = face[0,1] - 1/2*h\n",
    "            self.bbox = [x,y,w,h]\n",
    "        else:\n",
    "            self.bbox = self.pose_detector.bboxes[i]\n",
    "    \n",
    "    def update(self):\n",
    "        self.update_att()\n",
    "        for i in range(len(self.id_prev)): \n",
    "            pose = self.pose_detector.pose_predictions[i]\n",
    "            # check pose\n",
    "            if pose != 0:\n",
    "                if pose == self.sequence[int(self.i_seq[i])]: # reached next in sequence\n",
    "                    self.i_seq[i] += 1\n",
    "                    self.t_prev[i] = time.time()\n",
    "                    if int(self.i_seq[i]) >= len(self.sequence): # reached end of sequence\n",
    "                        self.get_bbox(i)\n",
    "                        self.reset()\n",
    "                        return\n",
    "                elif self.i_seq[i] >= 0 and pose == self.sequence[int(self.i_seq[i])-1]: # same pose\n",
    "                    self.t_prev[i] = time.time()\n",
    "                else: # different pose\n",
    "                    if time.time() - self.t_prev[i] > self.reset_time:\n",
    "                        self.i_seq[i] = 0\n",
    "                        self.t_prev[i] = time.time()\n",
    "            else: # rien detected\n",
    "                if time.time() - self.t_prev[i] > self.reset_time:\n",
    "                        self.i_seq[i] = 0\n",
    "                        self.t_prev[i] = time.time()"
   ]
  },
  {
   "cell_type": "markdown",
   "metadata": {
    "id": "J--jybfzgUds",
    "pycharm": {
     "name": "#%% md\n"
    }
   },
   "source": [
    "## Helper functions (Javascript sorcery)"
   ]
  },
  {
   "cell_type": "code",
   "execution_count": null,
   "metadata": {
    "id": "af7xrsxWUOYe",
    "pycharm": {
     "name": "#%%\n"
    }
   },
   "outputs": [],
   "source": [
    "# function to convert the JavaScript object into an OpenCV image\n",
    "def js_to_image(js_reply):\n",
    "  \"\"\"\n",
    "  Params:\n",
    "          js_reply: JavaScript object containing image from webcam\n",
    "  Returns:\n",
    "          img: OpenCV BGR image\n",
    "  \"\"\"\n",
    "  # decode base64 image\n",
    "  image_bytes = b64decode(js_reply.split(',')[1])\n",
    "  # convert bytes to numpy array\n",
    "  jpg_as_np = np.frombuffer(image_bytes, dtype=np.uint8)\n",
    "  # decode numpy array into OpenCV BGR image\n",
    "  img = cv2.imdecode(jpg_as_np, flags=1)\n",
    "\n",
    "  return img\n",
    "\n",
    "\n",
    "# function to convert OpenCV Rectangle bounding box image into base64 byte string to be overlayed on video stream\n",
    "def bbox_to_bytes(bbox_array):\n",
    "  \"\"\"\n",
    "  Params:\n",
    "          bbox_array: Numpy array (pixels) containing rectangle to overlay on video stream.\n",
    "  Returns:\n",
    "        bytes: Base64 image byte string\n",
    "  \"\"\"\n",
    "  # convert array into PIL image\n",
    "  bbox_PIL = PIL.Image.fromarray(bbox_array, 'RGBA')\n",
    "  iobuf = io.BytesIO()\n",
    "  # format bbox into png for return\n",
    "  bbox_PIL.save(iobuf, format='png')\n",
    "  # format return string\n",
    "  bbox_bytes = 'data:image/png;base64,{}'.format((str(b64encode(iobuf.getvalue()), 'utf-8')))\n",
    "\n",
    "  return bbox_bytes\n"
   ]
  },
  {
   "cell_type": "code",
   "execution_count": null,
   "metadata": {
    "id": "fu3kXxKgUj37",
    "pycharm": {
     "name": "#%%\n"
    }
   },
   "outputs": [],
   "source": [
    "# JavaScript to properly create our live video stream using our webcam as input\n",
    "def video_stream():\n",
    "  js = Javascript('''\n",
    "    var video;\n",
    "    var div = null;\n",
    "    var stream;\n",
    "    var captureCanvas;\n",
    "    var imgElement;\n",
    "    var labelElement;\n",
    "    \n",
    "    var pendingResolve = null;\n",
    "    var shutdown = false;\n",
    "    \n",
    "    function removeDom() {\n",
    "       stream.getVideoTracks()[0].stop();\n",
    "       video.remove();\n",
    "       div.remove();\n",
    "       video = null;\n",
    "       div = null;\n",
    "       stream = null;\n",
    "       imgElement = null;\n",
    "       captureCanvas = null;\n",
    "       labelElement = null;\n",
    "    }\n",
    "    \n",
    "    function onAnimationFrame() {\n",
    "      if (!shutdown) {\n",
    "        window.requestAnimationFrame(onAnimationFrame);\n",
    "      }\n",
    "      if (pendingResolve) {\n",
    "        var result = \"\";\n",
    "        if (!shutdown) {\n",
    "          captureCanvas.getContext('2d').drawImage(video, 0, 0, 640, 480);\n",
    "          result = captureCanvas.toDataURL('image/jpeg', 0.8)\n",
    "        }\n",
    "        var lp = pendingResolve;\n",
    "        pendingResolve = null;\n",
    "        lp(result);\n",
    "      }\n",
    "    }\n",
    "    \n",
    "    async function createDom() {\n",
    "      if (div !== null) {\n",
    "        return stream;\n",
    "      }\n",
    "\n",
    "      div = document.createElement('div');\n",
    "      div.style.border = '2px solid black';\n",
    "      div.style.padding = '3px';\n",
    "      div.style.width = '100%';\n",
    "      div.style.maxWidth = '600px';\n",
    "      document.body.appendChild(div);\n",
    "      \n",
    "      const modelOut = document.createElement('div');\n",
    "      modelOut.innerHTML = \"<span>Status:</span>\";\n",
    "      labelElement = document.createElement('span');\n",
    "      labelElement.innerText = 'No data';\n",
    "      labelElement.style.fontWeight = 'bold';\n",
    "      modelOut.appendChild(labelElement);\n",
    "      div.appendChild(modelOut);\n",
    "           \n",
    "      video = document.createElement('video');\n",
    "      video.style.display = 'block';\n",
    "      video.width = div.clientWidth - 6;\n",
    "      video.setAttribute('playsinline', '');\n",
    "      video.onclick = () => { shutdown = true; };\n",
    "      stream = await navigator.mediaDevices.getUserMedia(\n",
    "          {video: { facingMode: \"environment\"}});\n",
    "      div.appendChild(video);\n",
    "\n",
    "      imgElement = document.createElement('img');\n",
    "      imgElement.style.position = 'absolute';\n",
    "      imgElement.style.zIndex = 1;\n",
    "      imgElement.onclick = () => { shutdown = true; };\n",
    "      div.appendChild(imgElement);\n",
    "      \n",
    "      const instruction = document.createElement('div');\n",
    "      instruction.innerHTML = \n",
    "          '<span style=\"color: red; font-weight: bold;\">' +\n",
    "          'When finished, click here or on the video to stop this demo</span>';\n",
    "      div.appendChild(instruction);\n",
    "      instruction.onclick = () => { shutdown = true; };\n",
    "      \n",
    "      video.srcObject = stream;\n",
    "      await video.play();\n",
    "\n",
    "      captureCanvas = document.createElement('canvas');\n",
    "      captureCanvas.width = 640; //video.videoWidth;\n",
    "      captureCanvas.height = 480; //video.videoHeight;\n",
    "      window.requestAnimationFrame(onAnimationFrame);\n",
    "      \n",
    "      return stream;\n",
    "    }\n",
    "    async function stream_frame(label, imgData) {\n",
    "      if (shutdown) {\n",
    "        removeDom();\n",
    "        shutdown = false;\n",
    "        return '';\n",
    "      }\n",
    "\n",
    "      var preCreate = Date.now();\n",
    "      stream = await createDom();\n",
    "      \n",
    "      var preShow = Date.now();\n",
    "      if (label != \"\") {\n",
    "        labelElement.innerHTML = label;\n",
    "      }\n",
    "            \n",
    "      if (imgData != \"\") {\n",
    "        var videoRect = video.getClientRects()[0];\n",
    "        imgElement.style.top = videoRect.top + \"px\";\n",
    "        imgElement.style.left = videoRect.left + \"px\";\n",
    "        imgElement.style.width = videoRect.width + \"px\";\n",
    "        imgElement.style.height = videoRect.height + \"px\";\n",
    "        imgElement.src = imgData;\n",
    "      }\n",
    "      \n",
    "      var preCapture = Date.now();\n",
    "      var result = await new Promise(function(resolve, reject) {\n",
    "        pendingResolve = resolve;\n",
    "      });\n",
    "      shutdown = false;\n",
    "      \n",
    "      return {'create': preShow - preCreate, \n",
    "              'show': preCapture - preShow, \n",
    "              'capture': Date.now() - preCapture,\n",
    "              'img': result};\n",
    "    }\n",
    "    ''')\n",
    "\n",
    "  display(js)\n",
    "  \n",
    "def video_frame(label, bbox):\n",
    "  data = eval_js('stream_frame(\"{}\", \"{}\")'.format(label, bbox))\n",
    "  return data"
   ]
  },
  {
   "cell_type": "markdown",
   "metadata": {
    "id": "rmyC7JnJrS3e",
    "pycharm": {
     "name": "#%% md\n"
    }
   },
   "source": [
    "##Visualization"
   ]
  },
  {
   "cell_type": "code",
   "execution_count": null,
   "metadata": {
    "colab": {
     "background_save": true,
     "base_uri": "https://localhost:8080/",
     "height": 52
    },
    "id": "020KMo-eUn8T",
    "pycharm": {
     "name": "#%%\n"
    }
   },
   "outputs": [
    {
     "name": "stdout",
     "output_type": "stream",
     "text": [
      "Sequence: L invL \n"
     ]
    },
    {
     "data": {
      "application/javascript": [
       "\n",
       "    var video;\n",
       "    var div = null;\n",
       "    var stream;\n",
       "    var captureCanvas;\n",
       "    var imgElement;\n",
       "    var labelElement;\n",
       "    \n",
       "    var pendingResolve = null;\n",
       "    var shutdown = false;\n",
       "    \n",
       "    function removeDom() {\n",
       "       stream.getVideoTracks()[0].stop();\n",
       "       video.remove();\n",
       "       div.remove();\n",
       "       video = null;\n",
       "       div = null;\n",
       "       stream = null;\n",
       "       imgElement = null;\n",
       "       captureCanvas = null;\n",
       "       labelElement = null;\n",
       "    }\n",
       "    \n",
       "    function onAnimationFrame() {\n",
       "      if (!shutdown) {\n",
       "        window.requestAnimationFrame(onAnimationFrame);\n",
       "      }\n",
       "      if (pendingResolve) {\n",
       "        var result = \"\";\n",
       "        if (!shutdown) {\n",
       "          captureCanvas.getContext('2d').drawImage(video, 0, 0, 640, 480);\n",
       "          result = captureCanvas.toDataURL('image/jpeg', 0.8)\n",
       "        }\n",
       "        var lp = pendingResolve;\n",
       "        pendingResolve = null;\n",
       "        lp(result);\n",
       "      }\n",
       "    }\n",
       "    \n",
       "    async function createDom() {\n",
       "      if (div !== null) {\n",
       "        return stream;\n",
       "      }\n",
       "\n",
       "      div = document.createElement('div');\n",
       "      div.style.border = '2px solid black';\n",
       "      div.style.padding = '3px';\n",
       "      div.style.width = '100%';\n",
       "      div.style.maxWidth = '600px';\n",
       "      document.body.appendChild(div);\n",
       "      \n",
       "      const modelOut = document.createElement('div');\n",
       "      modelOut.innerHTML = \"<span>Status:</span>\";\n",
       "      labelElement = document.createElement('span');\n",
       "      labelElement.innerText = 'No data';\n",
       "      labelElement.style.fontWeight = 'bold';\n",
       "      modelOut.appendChild(labelElement);\n",
       "      div.appendChild(modelOut);\n",
       "           \n",
       "      video = document.createElement('video');\n",
       "      video.style.display = 'block';\n",
       "      video.width = div.clientWidth - 6;\n",
       "      video.setAttribute('playsinline', '');\n",
       "      video.onclick = () => { shutdown = true; };\n",
       "      stream = await navigator.mediaDevices.getUserMedia(\n",
       "          {video: { facingMode: \"environment\"}});\n",
       "      div.appendChild(video);\n",
       "\n",
       "      imgElement = document.createElement('img');\n",
       "      imgElement.style.position = 'absolute';\n",
       "      imgElement.style.zIndex = 1;\n",
       "      imgElement.onclick = () => { shutdown = true; };\n",
       "      div.appendChild(imgElement);\n",
       "      \n",
       "      const instruction = document.createElement('div');\n",
       "      instruction.innerHTML = \n",
       "          '<span style=\"color: red; font-weight: bold;\">' +\n",
       "          'When finished, click here or on the video to stop this demo</span>';\n",
       "      div.appendChild(instruction);\n",
       "      instruction.onclick = () => { shutdown = true; };\n",
       "      \n",
       "      video.srcObject = stream;\n",
       "      await video.play();\n",
       "\n",
       "      captureCanvas = document.createElement('canvas');\n",
       "      captureCanvas.width = 640; //video.videoWidth;\n",
       "      captureCanvas.height = 480; //video.videoHeight;\n",
       "      window.requestAnimationFrame(onAnimationFrame);\n",
       "      \n",
       "      return stream;\n",
       "    }\n",
       "    async function stream_frame(label, imgData) {\n",
       "      if (shutdown) {\n",
       "        removeDom();\n",
       "        shutdown = false;\n",
       "        return '';\n",
       "      }\n",
       "\n",
       "      var preCreate = Date.now();\n",
       "      stream = await createDom();\n",
       "      \n",
       "      var preShow = Date.now();\n",
       "      if (label != \"\") {\n",
       "        labelElement.innerHTML = label;\n",
       "      }\n",
       "            \n",
       "      if (imgData != \"\") {\n",
       "        var videoRect = video.getClientRects()[0];\n",
       "        imgElement.style.top = videoRect.top + \"px\";\n",
       "        imgElement.style.left = videoRect.left + \"px\";\n",
       "        imgElement.style.width = videoRect.width + \"px\";\n",
       "        imgElement.style.height = videoRect.height + \"px\";\n",
       "        imgElement.src = imgData;\n",
       "      }\n",
       "      \n",
       "      var preCapture = Date.now();\n",
       "      var result = await new Promise(function(resolve, reject) {\n",
       "        pendingResolve = resolve;\n",
       "      });\n",
       "      shutdown = false;\n",
       "      \n",
       "      return {'create': preShow - preCreate, \n",
       "              'show': preCapture - preShow, \n",
       "              'capture': Date.now() - preCapture,\n",
       "              'img': result};\n",
       "    }\n",
       "    "
      ],
      "text/plain": [
       "<IPython.core.display.Javascript object>"
      ]
     },
     "metadata": {},
     "output_type": "display_data"
    },
    {
     "name": "stderr",
     "output_type": "stream",
     "text": [
      "/usr/local/lib/python3.7/dist-packages/ipykernel_launcher.py:94: UserWarning: Implicit dimension choice for softmax has been deprecated. Change the call to include dim=X as an argument.\n"
     ]
    }
   ],
   "source": [
    "positions_names = [\"rien\", \"L\", \"invL\"]\n",
    "n_positions = 3\n",
    "sequence = [1, 2] \n",
    "sequence_txt = 'Sequence: '\n",
    "for i in sequence:\n",
    "  sequence_txt += positions_names[i] + ' '\n",
    "print(sequence_txt)\n",
    "reset_time = 10\n",
    "sequence_detector = SequenceDetector(n_feature=8, n_output=n_positions, checkpoint_path=\"pose_classification_simplified.ckpt\", sequence=sequence, reset_time=reset_time, face_bbox=True, simple_mode=True, model_based=False) # Try face_bbox=False for full body bbox\n",
    "\n",
    "\n",
    "# start streaming video from webcam\n",
    "video_stream()\n",
    "# label for video\n",
    "label_html = 'Capturing...'\n",
    "# initialze bounding box to empty\n",
    "bbox = ''\n",
    "#count = 0 \n",
    "while True:\n",
    "    js_reply = video_frame(label_html, bbox)\n",
    "    if not js_reply:\n",
    "        break\n",
    "\n",
    "    # convert JS response to OpenCV Image\n",
    "    img = js_to_image(js_reply[\"img\"])\n",
    "\n",
    "    # create transparent overlay for bounding box\n",
    "    bbox_array = np.zeros([480,640,4], dtype=np.uint8)\n",
    "    sequence_detector.detection(img)\n",
    "\n",
    "\n",
    "\n",
    "    img = cv2.cvtColor(img, cv2.COLOR_BGR2RGB)\n",
    "    if len(sequence_detector.bbox) != 0:\n",
    "        bbox = np.array(sequence_detector.bbox).astype(int)\n",
    "        bbox_array = cv2.rectangle(bbox_array,(bbox[0],bbox[1]),(bbox[0]+bbox[2],bbox[1]+bbox[3]),(255,0,0), 2)\n",
    "\n",
    "\n",
    "\n",
    "    # get face region coordinates\n",
    "    #faces = face_cascade.detectMultiScale(gray)\n",
    "    # get face bounding box for overlay\n",
    "    #for (x,y,w,h) in faces:\n",
    "\n",
    "    pil_im = PIL.Image.fromarray(img)\n",
    "    im = np.asarray(pil_im)\n",
    "\n",
    "    # predictions, gt_anns, image_meta = predictor.pil_image(pil_im)\n",
    "\n",
    "    # annotation_painter = openpifpaf.show.AnnotationPainter()\n",
    "    # with openpifpaf.show.image_canvas(im) as ax:\n",
    "    #     clear_output(wait = True)\n",
    "    #     annotation_painter.annotations(ax, predictions)\n",
    "    #     plt.show()\n",
    "\n",
    "    bbox_array[:,:,3] = (bbox_array.max(axis = 2) > 0 ).astype(int) * 255\n",
    "    # convert overlay of bbox into bytes\n",
    "    bbox_bytes = bbox_to_bytes(bbox_array)\n",
    "    # update bbox so next frame gets new overlay\n",
    "    bbox = bbox_bytes"
   ]
  },
  {
   "cell_type": "markdown",
   "metadata": {
    "id": "xn9aWzVJF65F",
    "pycharm": {
     "name": "#%% md\n"
    }
   },
   "source": [
    "# Evaluation\n",
    "Evaluation of different networks on inference speed (using colab pro).\n",
    "The networks used are the same ones used in the official website's [introduction](https://openpifpaf.github.io/intro.html#introduction)"
   ]
  },
  {
   "cell_type": "code",
   "execution_count": null,
   "metadata": {
    "id": "Zejw-8uRZRTT",
    "pycharm": {
     "name": "#%%\n"
    }
   },
   "outputs": [],
   "source": [
    "%%bash\n",
    "mkdir data-mscoco\n",
    "cd data-mscoco\n",
    "\n",
    "wget -q -nc http://images.cocodataset.org/annotations/annotations_trainval2017.zip\n",
    "wget -q -nc http://images.cocodataset.org/annotations/image_info_test2017.zip\n",
    "unzip -q -n annotations_trainval2017.zip\n",
    "unzip -q -n image_info_test2017.zip\n",
    "\n",
    "mkdir images\n",
    "cd images\n",
    "wget -q -nc http://images.cocodataset.org/zips/val2017.zip\n",
    "wget -q -nc http://images.cocodataset.org/zips/train2017.zip\n",
    "wget -q -nc http://images.cocodataset.org/zips/test2017.zip\n",
    "unzip -q -n val2017.zip\n",
    "unzip -q -n train2017.zip\n",
    "unzip -q -n test2017.zip"
   ]
  },
  {
   "cell_type": "code",
   "execution_count": null,
   "metadata": {
    "id": "GI_dIoNVi7h2",
    "pycharm": {
     "name": "#%%\n"
    }
   },
   "outputs": [],
   "source": []
  },
  {
   "cell_type": "markdown",
   "metadata": {
    "id": "CnbPSm7U7icp",
    "pycharm": {
     "name": "#%% md\n"
    }
   },
   "source": [
    "**mobilenetv3small**\n"
   ]
  },
  {
   "cell_type": "code",
   "execution_count": null,
   "metadata": {
    "id": "vhRZvJ2RSw7p",
    "pycharm": {
     "name": "#%%\n"
    }
   },
   "outputs": [],
   "source": [
    "!python -m openpifpaf.benchmark --checkpoint mobilenetv3small"
   ]
  },
  {
   "cell_type": "markdown",
   "metadata": {
    "id": "3O6XQ7kzjI9h",
    "pycharm": {
     "name": "#%% md\n"
    }
   },
   "source": [
    "**mobilenetv3large**\n"
   ]
  },
  {
   "cell_type": "code",
   "execution_count": null,
   "metadata": {
    "id": "jQJUCrB_jC6v",
    "pycharm": {
     "name": "#%%\n"
    }
   },
   "outputs": [],
   "source": [
    "!python -m openpifpaf.benchmark --checkpoint mobilenetv3large"
   ]
  },
  {
   "cell_type": "markdown",
   "metadata": {
    "id": "LODjxxAejMAa",
    "pycharm": {
     "name": "#%% md\n"
    }
   },
   "source": [
    "**resnet50**"
   ]
  },
  {
   "cell_type": "code",
   "execution_count": null,
   "metadata": {
    "id": "443kzwQhjEaQ",
    "pycharm": {
     "name": "#%%\n"
    }
   },
   "outputs": [],
   "source": [
    "!python -m openpifpaf.benchmark --checkpoint resnet50"
   ]
  },
  {
   "cell_type": "markdown",
   "metadata": {
    "id": "1t_6Li43jP8r",
    "pycharm": {
     "name": "#%% md\n"
    }
   },
   "source": [
    "**shufflenetv2k16**"
   ]
  },
  {
   "cell_type": "code",
   "execution_count": null,
   "metadata": {
    "id": "V-dt-RV9jhv1",
    "pycharm": {
     "name": "#%%\n"
    }
   },
   "outputs": [],
   "source": [
    "!python -m openpifpaf.benchmark --checkpoint shufflenetv2k16"
   ]
  },
  {
   "cell_type": "markdown",
   "metadata": {
    "id": "1RRQZ_MTjnn_",
    "pycharm": {
     "name": "#%% md\n"
    }
   },
   "source": [
    "**shufflenetv2k30**"
   ]
  },
  {
   "cell_type": "code",
   "execution_count": null,
   "metadata": {
    "id": "RajeugKEjkJb",
    "pycharm": {
     "name": "#%%\n"
    }
   },
   "outputs": [],
   "source": [
    "!python -m openpifpaf.benchmark --checkpoint shufflenetv2k30"
   ]
  }
 ],
 "metadata": {
  "accelerator": "GPU",
  "colab": {
   "collapsed_sections": [
    "J--jybfzgUds",
    "xn9aWzVJF65F"
   ],
   "name": "demo_milestone_1_final.ipynb",
   "provenance": [
    {
     "file_id": "1Qvb1gSZHEe_drGjWeZysZ1-8aIHlh2Qy",
     "timestamp": 1650541538474
    }
   ],
   "version": ""
  },
  "kernelspec": {
   "display_name": "Python 3",
   "name": "python3"
  },
  "language_info": {
   "name": "python"
  }
 },
 "nbformat": 4,
 "nbformat_minor": 0
}