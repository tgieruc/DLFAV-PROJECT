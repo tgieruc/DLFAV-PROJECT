{
 "cells": [
  {
   "cell_type": "code",
   "execution_count": null,
   "outputs": [],
   "source": [
    "import sys,os\n",
    "sys.path.insert(0, os.path.join(os.path.abspath(''), \"YOLOX\"))\n",
    "\n",
    "import numpy as np\n",
    "import cv2\n",
    "import imutils\n",
    "\n",
    "from tracker import Tracker\n",
    "from pose_detector import PoseDetector\n",
    "from sequence_detector import SequenceDetector\n",
    "from pose_tracker import PoseTracker\n",
    "from visualizer import Visualizer\n",
    "from project_utils import identify_bbox\n",
    "\n",
    "environment = \"local\""
   ],
   "metadata": {
    "collapsed": false,
    "pycharm": {
     "name": "#%%\n"
    }
   }
  },
  {
   "cell_type": "code",
   "execution_count": null,
   "outputs": [],
   "source": [
    "if environment == \"colab\":\n",
    "    from IPython.display import display, Javascript, Image, clear_output\n",
    "    from base64 import b64decode, b64encode\n",
    "    import cv2, PIL, io\n",
    "     # Import PyDrive and associated libraries.\n",
    "    # This only needs to be done once per notebook.\n",
    "    from pydrive.auth import GoogleAuth\n",
    "    from pydrive.drive import GoogleDrive\n",
    "    from google.colab import auth\n",
    "    from oauth2client.client import GoogleCredentials\n",
    "\n",
    "    # Authenticate and create the PyDrive client.\n",
    "    # This only needs to be done once per notebook.\n",
    "    auth.authenticate_user()\n",
    "    gauth = GoogleAuth()\n",
    "    gauth.credentials = GoogleCredentials.get_application_default()\n",
    "    drive = GoogleDrive(gauth)\n",
    "\n",
    "    !gdown --id 1iYxlkO_RZJ_6iL6wdIbfjl8VprLlFp1c\n",
    "\n",
    "         # function to convert the JavaScript object into an OpenCV image\n",
    "    def js_to_image(js_reply):\n",
    "        \"\"\"\n",
    "        Params:\n",
    "                js_reply: JavaScript object containing image from webcam\n",
    "        Returns:\n",
    "                img: OpenCV BGR image\n",
    "        \"\"\"\n",
    "        # decode base64 image\n",
    "        image_bytes = b64decode(js_reply.split(',')[1])\n",
    "        # convert bytes to numpy array\n",
    "        jpg_as_np = np.frombuffer(image_bytes, dtype=np.uint8)\n",
    "        # decode numpy array into OpenCV BGR image\n",
    "        img = cv2.imdecode(jpg_as_np, flags=1)\n",
    "\n",
    "        return img\n",
    "\n",
    "    # function to convert OpenCV Rectangle bounding box image into base64 byte string to be overlayed on video stream\n",
    "    def bbox_to_bytes(bbox_array):\n",
    "        \"\"\"\n",
    "        Params:\n",
    "                bbox_array: Numpy array (pixels) containing rectangle to overlay on video stream.\n",
    "        Returns:\n",
    "              bytes: Base64 image byte string\n",
    "        \"\"\"\n",
    "        # convert array into PIL image\n",
    "        bbox_PIL = PIL.Image.fromarray(bbox_array, 'RGBA')\n",
    "        iobuf = io.BytesIO()\n",
    "        # format bbox into png for return\n",
    "        bbox_PIL.save(iobuf, format='png')\n",
    "        # format return string\n",
    "        bbox_bytes = 'data:image/png;base64,{}'.format((str(b64encode(iobuf.getvalue()), 'utf-8')))\n",
    "\n",
    "        return bbox_bytes\n",
    "else:\n",
    "    cap = cv2.VideoCapture(0)"
   ],
   "metadata": {
    "collapsed": false,
    "pycharm": {
     "name": "#%%\n"
    }
   }
  },
  {
   "cell_type": "code",
   "execution_count": null,
   "outputs": [],
   "source": [
    "from pose_tracker import PoseTracker\n",
    "tracker = Tracker('person')\n",
    "pose_detector = PoseDetector(n_feature=8, n_output=3, checkpoint_path=\"pose_classification_simplified.ckpt\", simple_mode=True, model_based=False)\n",
    "sequence_detector = SequenceDetector([1,2], 10)\n",
    "pose_tracker = PoseTracker(pose_detector, sequence_detector, tracker)\n",
    "visualizer = Visualizer(environment)\n",
    "poi = None\n"
   ],
   "metadata": {
    "collapsed": false,
    "pycharm": {
     "name": "#%%\n"
    }
   }
  },
  {
   "cell_type": "code",
   "execution_count": null,
   "outputs": [],
   "source": [
    "if environment == \"colab\":\n",
    "    # start streaming video from webcam\n",
    "    video_stream()\n",
    "    # label for video\n",
    "    label_html = 'Capturing...'\n",
    "    # initialze bounding box to empty\n",
    "    bbox = ''\n",
    "    #count = 0\n",
    "while True:\n",
    "    if environment == \"colab\":\n",
    "        js_reply = video_frame(label_html, bbox)\n",
    "        if not js_reply:\n",
    "            break\n",
    "        # convert JS response to OpenCV Image\n",
    "        img = js_to_image(js_reply[\"img\"])\n",
    "        # create transparent overlay for bounding box\n",
    "        bbox_array = np.zeros([480,640,4], dtype=np.uint8)\n",
    "    else:\n",
    "        _, img = cap.read()\n",
    "        if img is None:\n",
    "            break\n",
    "\n",
    "    poi = None\n",
    "    im = imutils.resize(img, height=500)\n",
    "    #bbox, pose = pose_detector.inference(im)\n",
    "    outputs, poi = pose_tracker.update(im)\n",
    "    visualizer.show(im, outputs, poi)"
   ],
   "metadata": {
    "collapsed": false,
    "pycharm": {
     "name": "#%%\n"
    }
   }
  },
  {
   "cell_type": "markdown",
   "source": [],
   "metadata": {
    "collapsed": false,
    "pycharm": {
     "name": "#%% md\n"
    }
   }
  },
  {
   "cell_type": "markdown",
   "source": [],
   "metadata": {
    "collapsed": false,
    "pycharm": {
     "name": "#%% md\n"
    }
   }
  },
  {
   "cell_type": "code",
   "execution_count": null,
   "outputs": [],
   "source": [
    "outputs.shape"
   ],
   "metadata": {
    "collapsed": false,
    "pycharm": {
     "name": "#%%\n"
    }
   }
  },
  {
   "cell_type": "code",
   "execution_count": null,
   "outputs": [],
   "source": [],
   "metadata": {
    "collapsed": false,
    "pycharm": {
     "name": "#%%\n"
    }
   }
  },
  {
   "cell_type": "code",
   "execution_count": null,
   "outputs": [],
   "source": [],
   "metadata": {
    "collapsed": false,
    "pycharm": {
     "name": "#%%\n"
    }
   }
  }
 ],
 "metadata": {
  "kernelspec": {
   "display_name": "Python 3 (ipykernel)",
   "language": "python",
   "name": "python3"
  },
  "language_info": {
   "codemirror_mode": {
    "name": "ipython",
    "version": 3
   },
   "file_extension": ".py",
   "mimetype": "text/x-python",
   "name": "python",
   "nbconvert_exporter": "python",
   "pygments_lexer": "ipython3",
   "version": "3.9.12"
  }
 },
 "nbformat": 4,
 "nbformat_minor": 4
}