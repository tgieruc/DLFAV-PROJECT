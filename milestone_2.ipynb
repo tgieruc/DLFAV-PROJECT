{
 "cells": [
  {
   "cell_type": "code",
   "execution_count": 1,
   "metadata": {
    "collapsed": true,
    "pycharm": {
     "name": "#%%\n"
    }
   },
   "outputs": [
    {
     "name": "stderr",
     "output_type": "stream",
     "text": [
      "C:\\Users\\Nelson\\AppData\\Local\\Programs\\Python\\Python39\\lib\\site-packages\\tqdm\\auto.py:22: TqdmWarning: IProgress not found. Please update jupyter and ipywidgets. See https://ipywidgets.readthedocs.io/en/stable/user_install.html\n",
      "  from .autonotebook import tqdm as notebook_tqdm\n"
     ]
    }
   ],
   "source": [
    "import sys,os\n",
    "sys.path.insert(0, os.path.join(os.path.abspath(''), \"YOLOX\"))\n",
    "\n",
    "import numpy as np\n",
    "import cv2\n",
    "import imutils\n",
    "\n",
    "from tracker import Tracker\n",
    "from pose_detector import PoseDetector\n",
    "from sequence_detector import SequenceDetector\n",
    "from pose_tracker import PoseTracker\n",
    "from visualizer import Visualizer\n",
    "from project_utils import identify_bbox\n",
    "\n",
    "environment = \"local\""
   ]
  },
  {
   "cell_type": "code",
   "execution_count": 2,
   "metadata": {
    "collapsed": false,
    "pycharm": {
     "name": "#%%\n"
    }
   },
   "outputs": [],
   "source": [
    "if environment == \"colab\":\n",
    "    from IPython.display import display, Javascript, Image, clear_output\n",
    "    from base64 import b64decode, b64encode\n",
    "    import cv2, PIL, io\n",
    "     # Import PyDrive and associated libraries.\n",
    "    # This only needs to be done once per notebook.\n",
    "    from pydrive.auth import GoogleAuth\n",
    "    from pydrive.drive import GoogleDrive\n",
    "    from google.colab import auth\n",
    "    from oauth2client.client import GoogleCredentials\n",
    "\n",
    "    # Authenticate and create the PyDrive client.\n",
    "    # This only needs to be done once per notebook.\n",
    "    auth.authenticate_user()\n",
    "    gauth = GoogleAuth()\n",
    "    gauth.credentials = GoogleCredentials.get_application_default()\n",
    "    drive = GoogleDrive(gauth)\n",
    "\n",
    "    !gdown --id 1iYxlkO_RZJ_6iL6wdIbfjl8VprLlFp1c\n",
    "\n",
    "         # function to convert the JavaScript object into an OpenCV image\n",
    "    def js_to_image(js_reply):\n",
    "        \"\"\"\n",
    "        Params:\n",
    "                js_reply: JavaScript object containing image from webcam\n",
    "        Returns:\n",
    "                img: OpenCV BGR image\n",
    "        \"\"\"\n",
    "        # decode base64 image\n",
    "        image_bytes = b64decode(js_reply.split(',')[1])\n",
    "        # convert bytes to numpy array\n",
    "        jpg_as_np = np.frombuffer(image_bytes, dtype=np.uint8)\n",
    "        # decode numpy array into OpenCV BGR image\n",
    "        img = cv2.imdecode(jpg_as_np, flags=1)\n",
    "\n",
    "        return img\n",
    "\n",
    "    # function to convert OpenCV Rectangle bounding box image into base64 byte string to be overlayed on video stream\n",
    "    def bbox_to_bytes(bbox_array):\n",
    "        \"\"\"\n",
    "        Params:\n",
    "                bbox_array: Numpy array (pixels) containing rectangle to overlay on video stream.\n",
    "        Returns:\n",
    "              bytes: Base64 image byte string\n",
    "        \"\"\"\n",
    "        # convert array into PIL image\n",
    "        bbox_PIL = PIL.Image.fromarray(bbox_array, 'RGBA')\n",
    "        iobuf = io.BytesIO()\n",
    "        # format bbox into png for return\n",
    "        bbox_PIL.save(iobuf, format='png')\n",
    "        # format return string\n",
    "        bbox_bytes = 'data:image/png;base64,{}'.format((str(b64encode(iobuf.getvalue()), 'utf-8')))\n",
    "\n",
    "        return bbox_bytes\n",
    "else:\n",
    "    cap = cv2.VideoCapture(0)"
   ]
  },
  {
   "cell_type": "code",
   "execution_count": 3,
   "metadata": {
    "collapsed": false,
    "pycharm": {
     "name": "#%%\n"
    }
   },
   "outputs": [
    {
     "name": "stderr",
     "output_type": "stream",
     "text": [
      "c:\\Users\\Nelson\\OneDrive\\EPFL\\DLforAutonomousVehicles\\Project\\DLFAV-PROJECT\\deep_sort\\utils\\parser.py:23: YAMLLoadWarning: calling yaml.load() without Loader=... is deprecated, as the default Loader is unsafe. Please read https://msg.pyyaml.org/load for full details.\n",
      "  self.update(yaml.load(fo.read()))\n"
     ]
    }
   ],
   "source": [
    "from pose_tracker import PoseTracker\n",
    "tracker = Tracker()\n",
    "pose_detector = PoseDetector(n_feature=8, n_output=3, checkpoint_path=\"pose_classification_simplified.ckpt\", simple_mode=True, model_based=False)\n",
    "sequence_detector = SequenceDetector([1,2], 10)\n",
    "pose_tracker = PoseTracker(pose_detector, sequence_detector, tracker)\n",
    "visualizer = Visualizer(environment)\n",
    "poi = None\n"
   ]
  },
  {
   "cell_type": "code",
   "execution_count": 4,
   "metadata": {
    "collapsed": false,
    "pycharm": {
     "name": "#%%\n"
    }
   },
   "outputs": [
    {
     "name": "stderr",
     "output_type": "stream",
     "text": [
      "c:\\Users\\Nelson\\OneDrive\\EPFL\\DLforAutonomousVehicles\\Project\\DLFAV-PROJECT\\pose_detector.py:143: UserWarning: Implicit dimension choice for softmax has been deprecated. Change the call to include dim=X as an argument.\n",
      "  _, pred = torch.max(F.softmax(self.keypoint_to_pose_net(torch.from_numpy(keypoints.astype(np.float32)).cuda(device))).data, dim=1)\n",
      "C:\\Users\\Nelson\\AppData\\Local\\Programs\\Python\\Python39\\lib\\site-packages\\torch\\functional.py:568: UserWarning: torch.meshgrid: in an upcoming release, it will be required to pass the indexing argument. (Triggered internally at  C:\\actions-runner\\_work\\pytorch\\pytorch\\builder\\windows\\pytorch\\aten\\src\\ATen\\native\\TensorShape.cpp:2228.)\n",
      "  return _VF.meshgrid(tensors, **kwargs)  # type: ignore[attr-defined]\n"
     ]
    },
    {
     "ename": "KeyboardInterrupt",
     "evalue": "",
     "output_type": "error",
     "traceback": [
      "\u001b[1;31m---------------------------------------------------------------------------\u001b[0m",
      "\u001b[1;31mKeyboardInterrupt\u001b[0m                         Traceback (most recent call last)",
      "\u001b[1;32mc:\\Users\\Nelson\\OneDrive\\EPFL\\DLforAutonomousVehicles\\Project\\DLFAV-PROJECT\\milestone_2.ipynb Cell 4'\u001b[0m in \u001b[0;36m<cell line: 10>\u001b[1;34m()\u001b[0m\n\u001b[0;32m     <a href='vscode-notebook-cell:/c%3A/Users/Nelson/OneDrive/EPFL/DLforAutonomousVehicles/Project/DLFAV-PROJECT/milestone_2.ipynb#ch0000003?line=23'>24</a>\u001b[0m im \u001b[39m=\u001b[39m imutils\u001b[39m.\u001b[39mresize(img, height\u001b[39m=\u001b[39m\u001b[39m500\u001b[39m)\n\u001b[0;32m     <a href='vscode-notebook-cell:/c%3A/Users/Nelson/OneDrive/EPFL/DLforAutonomousVehicles/Project/DLFAV-PROJECT/milestone_2.ipynb#ch0000003?line=24'>25</a>\u001b[0m \u001b[39m#bbox, pose = pose_detector.inference(im)\u001b[39;00m\n\u001b[1;32m---> <a href='vscode-notebook-cell:/c%3A/Users/Nelson/OneDrive/EPFL/DLforAutonomousVehicles/Project/DLFAV-PROJECT/milestone_2.ipynb#ch0000003?line=25'>26</a>\u001b[0m outputs, poi \u001b[39m=\u001b[39m pose_tracker\u001b[39m.\u001b[39;49mupdate(im)\n\u001b[0;32m     <a href='vscode-notebook-cell:/c%3A/Users/Nelson/OneDrive/EPFL/DLforAutonomousVehicles/Project/DLFAV-PROJECT/milestone_2.ipynb#ch0000003?line=26'>27</a>\u001b[0m visualizer\u001b[39m.\u001b[39mshow(im, outputs, poi)\n",
      "File \u001b[1;32mc:\\Users\\Nelson\\OneDrive\\EPFL\\DLforAutonomousVehicles\\Project\\DLFAV-PROJECT\\pose_tracker.py:17\u001b[0m, in \u001b[0;36mPoseTracker.update\u001b[1;34m(self, im)\u001b[0m\n\u001b[0;32m     <a href='file:///c%3A/Users/Nelson/OneDrive/EPFL/DLforAutonomousVehicles/Project/DLFAV-PROJECT/pose_tracker.py?line=14'>15</a>\u001b[0m \u001b[39mdef\u001b[39;00m \u001b[39mupdate\u001b[39m(\u001b[39mself\u001b[39m, im):\n\u001b[0;32m     <a href='file:///c%3A/Users/Nelson/OneDrive/EPFL/DLforAutonomousVehicles/Project/DLFAV-PROJECT/pose_tracker.py?line=15'>16</a>\u001b[0m     bbox, pose \u001b[39m=\u001b[39m \u001b[39mself\u001b[39m\u001b[39m.\u001b[39mpose_detector\u001b[39m.\u001b[39minference(im)\n\u001b[1;32m---> <a href='file:///c%3A/Users/Nelson/OneDrive/EPFL/DLforAutonomousVehicles/Project/DLFAV-PROJECT/pose_tracker.py?line=16'>17</a>\u001b[0m     outputs \u001b[39m=\u001b[39m np\u001b[39m.\u001b[39marray(\u001b[39mself\u001b[39;49m\u001b[39m.\u001b[39;49mtracker\u001b[39m.\u001b[39;49mupdate(im))\n\u001b[0;32m     <a href='file:///c%3A/Users/Nelson/OneDrive/EPFL/DLforAutonomousVehicles/Project/DLFAV-PROJECT/pose_tracker.py?line=17'>18</a>\u001b[0m     \u001b[39mif\u001b[39;00m \u001b[39mlen\u001b[39m(outputs \u001b[39m>\u001b[39m \u001b[39m0\u001b[39m):\n\u001b[0;32m     <a href='file:///c%3A/Users/Nelson/OneDrive/EPFL/DLforAutonomousVehicles/Project/DLFAV-PROJECT/pose_tracker.py?line=18'>19</a>\u001b[0m         idt, idp \u001b[39m=\u001b[39m \u001b[39mself\u001b[39m\u001b[39m.\u001b[39m_id_filtering(outputs, bbox)\n",
      "File \u001b[1;32mc:\\Users\\Nelson\\OneDrive\\EPFL\\DLforAutonomousVehicles\\Project\\DLFAV-PROJECT\\tracker.py:27\u001b[0m, in \u001b[0;36mTracker.update\u001b[1;34m(self, image)\u001b[0m\n\u001b[0;32m     <a href='file:///c%3A/Users/Nelson/OneDrive/EPFL/DLforAutonomousVehicles/Project/DLFAV-PROJECT/tracker.py?line=25'>26</a>\u001b[0m \u001b[39mdef\u001b[39;00m \u001b[39mupdate\u001b[39m(\u001b[39mself\u001b[39m, image):\n\u001b[1;32m---> <a href='file:///c%3A/Users/Nelson/OneDrive/EPFL/DLforAutonomousVehicles/Project/DLFAV-PROJECT/tracker.py?line=26'>27</a>\u001b[0m     info \u001b[39m=\u001b[39m \u001b[39mself\u001b[39;49m\u001b[39m.\u001b[39;49mdetector\u001b[39m.\u001b[39;49mdetect(image, visual\u001b[39m=\u001b[39;49m\u001b[39mFalse\u001b[39;49;00m)\n\u001b[0;32m     <a href='file:///c%3A/Users/Nelson/OneDrive/EPFL/DLforAutonomousVehicles/Project/DLFAV-PROJECT/tracker.py?line=27'>28</a>\u001b[0m     outputs \u001b[39m=\u001b[39m []\n\u001b[0;32m     <a href='file:///c%3A/Users/Nelson/OneDrive/EPFL/DLforAutonomousVehicles/Project/DLFAV-PROJECT/tracker.py?line=28'>29</a>\u001b[0m     \u001b[39mif\u001b[39;00m info[\u001b[39m'\u001b[39m\u001b[39mbox_nums\u001b[39m\u001b[39m'\u001b[39m]\u001b[39m>\u001b[39m\u001b[39m0\u001b[39m:\n",
      "File \u001b[1;32mc:\\Users\\Nelson\\OneDrive\\EPFL\\DLforAutonomousVehicles\\Project\\DLFAV-PROJECT\\detector.py:52\u001b[0m, in \u001b[0;36mDetector.detect\u001b[1;34m(self, raw_img, visual, conf)\u001b[0m\n\u001b[0;32m     <a href='file:///c%3A/Users/Nelson/OneDrive/EPFL/DLforAutonomousVehicles/Project/DLFAV-PROJECT/detector.py?line=48'>49</a>\u001b[0m \u001b[39mwith\u001b[39;00m torch\u001b[39m.\u001b[39mno_grad():\n\u001b[0;32m     <a href='file:///c%3A/Users/Nelson/OneDrive/EPFL/DLforAutonomousVehicles/Project/DLFAV-PROJECT/detector.py?line=49'>50</a>\u001b[0m     outputs \u001b[39m=\u001b[39m \u001b[39mself\u001b[39m\u001b[39m.\u001b[39mmodel(img)\n\u001b[1;32m---> <a href='file:///c%3A/Users/Nelson/OneDrive/EPFL/DLforAutonomousVehicles/Project/DLFAV-PROJECT/detector.py?line=51'>52</a>\u001b[0m outputs \u001b[39m=\u001b[39m postprocess(\n\u001b[0;32m     <a href='file:///c%3A/Users/Nelson/OneDrive/EPFL/DLforAutonomousVehicles/Project/DLFAV-PROJECT/detector.py?line=52'>53</a>\u001b[0m     outputs, \u001b[39mself\u001b[39;49m\u001b[39m.\u001b[39;49mexp\u001b[39m.\u001b[39;49mnum_classes, \u001b[39mself\u001b[39;49m\u001b[39m.\u001b[39;49mexp\u001b[39m.\u001b[39;49mtest_conf, \u001b[39mself\u001b[39;49m\u001b[39m.\u001b[39;49mexp\u001b[39m.\u001b[39;49mnmsthre  \u001b[39m# TODO:用户可更改\u001b[39;49;00m\n\u001b[0;32m     <a href='file:///c%3A/Users/Nelson/OneDrive/EPFL/DLforAutonomousVehicles/Project/DLFAV-PROJECT/detector.py?line=53'>54</a>\u001b[0m )[\u001b[39m0\u001b[39m]\n\u001b[0;32m     <a href='file:///c%3A/Users/Nelson/OneDrive/EPFL/DLforAutonomousVehicles/Project/DLFAV-PROJECT/detector.py?line=54'>55</a>\u001b[0m \u001b[39mif\u001b[39;00m outputs \u001b[39mis\u001b[39;00m \u001b[39mNone\u001b[39;00m:\n\u001b[0;32m     <a href='file:///c%3A/Users/Nelson/OneDrive/EPFL/DLforAutonomousVehicles/Project/DLFAV-PROJECT/detector.py?line=55'>56</a>\u001b[0m     info[\u001b[39m'\u001b[39m\u001b[39mboxes\u001b[39m\u001b[39m'\u001b[39m], info[\u001b[39m'\u001b[39m\u001b[39mscores\u001b[39m\u001b[39m'\u001b[39m], info[\u001b[39m'\u001b[39m\u001b[39mclass_ids\u001b[39m\u001b[39m'\u001b[39m],info[\u001b[39m'\u001b[39m\u001b[39mbox_nums\u001b[39m\u001b[39m'\u001b[39m]\u001b[39m=\u001b[39m\u001b[39mNone\u001b[39;00m,\u001b[39mNone\u001b[39;00m,\u001b[39mNone\u001b[39;00m,\u001b[39m0\u001b[39m\n",
      "File \u001b[1;32mc:\\Users\\Nelson\\OneDrive\\EPFL\\DLforAutonomousVehicles\\Project\\DLFAV-PROJECT\\YOLOX\\yolox\\utils\\boxes.py:37\u001b[0m, in \u001b[0;36mpostprocess\u001b[1;34m(prediction, num_classes, conf_thre, nms_thre)\u001b[0m\n\u001b[0;32m     <a href='file:///c%3A/Users/Nelson/OneDrive/EPFL/DLforAutonomousVehicles/Project/DLFAV-PROJECT/YOLOX/yolox/utils/boxes.py?line=34'>35</a>\u001b[0m box_corner[:, :, \u001b[39m1\u001b[39m] \u001b[39m=\u001b[39m prediction[:, :, \u001b[39m1\u001b[39m] \u001b[39m-\u001b[39m prediction[:, :, \u001b[39m3\u001b[39m] \u001b[39m/\u001b[39m \u001b[39m2\u001b[39m\n\u001b[0;32m     <a href='file:///c%3A/Users/Nelson/OneDrive/EPFL/DLforAutonomousVehicles/Project/DLFAV-PROJECT/YOLOX/yolox/utils/boxes.py?line=35'>36</a>\u001b[0m box_corner[:, :, \u001b[39m2\u001b[39m] \u001b[39m=\u001b[39m prediction[:, :, \u001b[39m0\u001b[39m] \u001b[39m+\u001b[39m prediction[:, :, \u001b[39m2\u001b[39m] \u001b[39m/\u001b[39m \u001b[39m2\u001b[39m\n\u001b[1;32m---> <a href='file:///c%3A/Users/Nelson/OneDrive/EPFL/DLforAutonomousVehicles/Project/DLFAV-PROJECT/YOLOX/yolox/utils/boxes.py?line=36'>37</a>\u001b[0m box_corner[:, :, \u001b[39m3\u001b[39m] \u001b[39m=\u001b[39m prediction[:, :, \u001b[39m1\u001b[39;49m] \u001b[39m+\u001b[39;49m prediction[:, :, \u001b[39m3\u001b[39;49m] \u001b[39m/\u001b[39;49m \u001b[39m2\u001b[39;49m\n\u001b[0;32m     <a href='file:///c%3A/Users/Nelson/OneDrive/EPFL/DLforAutonomousVehicles/Project/DLFAV-PROJECT/YOLOX/yolox/utils/boxes.py?line=37'>38</a>\u001b[0m prediction[:, :, :\u001b[39m4\u001b[39m] \u001b[39m=\u001b[39m box_corner[:, :, :\u001b[39m4\u001b[39m]\n\u001b[0;32m     <a href='file:///c%3A/Users/Nelson/OneDrive/EPFL/DLforAutonomousVehicles/Project/DLFAV-PROJECT/YOLOX/yolox/utils/boxes.py?line=39'>40</a>\u001b[0m output \u001b[39m=\u001b[39m [\u001b[39mNone\u001b[39;00m \u001b[39mfor\u001b[39;00m _ \u001b[39min\u001b[39;00m \u001b[39mrange\u001b[39m(\u001b[39mlen\u001b[39m(prediction))]\n",
      "\u001b[1;31mKeyboardInterrupt\u001b[0m: "
     ]
    }
   ],
   "source": [
    "if environment == \"colab\":\n",
    "    # start streaming video from webcam\n",
    "    video_stream()\n",
    "    # label for video\n",
    "    label_html = 'Capturing...'\n",
    "    # initialze bounding box to empty\n",
    "    bbox = ''\n",
    "    #count = 0\n",
    "while True:\n",
    "    if environment == \"colab\":\n",
    "        js_reply = video_frame(label_html, bbox)\n",
    "        if not js_reply:\n",
    "            break\n",
    "        # convert JS response to OpenCV Image\n",
    "        img = js_to_image(js_reply[\"img\"])\n",
    "        # create transparent overlay for bounding box\n",
    "        bbox_array = np.zeros([480,640,4], dtype=np.uint8)\n",
    "    else:\n",
    "        _, img = cap.read()\n",
    "        if img is None:\n",
    "            break\n",
    "\n",
    "    poi = None\n",
    "    im = imutils.resize(img, height=500)\n",
    "    #bbox, pose = pose_detector.inference(im)\n",
    "    outputs, poi = pose_tracker.update(im)\n",
    "    visualizer.show(im, outputs, poi)"
   ]
  },
  {
   "cell_type": "markdown",
   "metadata": {
    "collapsed": false,
    "pycharm": {
     "name": "#%% md\n"
    }
   },
   "source": []
  },
  {
   "cell_type": "markdown",
   "metadata": {
    "collapsed": false,
    "pycharm": {
     "name": "#%% md\n"
    }
   },
   "source": []
  },
  {
   "cell_type": "code",
   "execution_count": null,
   "metadata": {
    "collapsed": false,
    "pycharm": {
     "name": "#%%\n"
    }
   },
   "outputs": [
    {
     "data": {
      "text/plain": [
       "(1, 5)"
      ]
     },
     "execution_count": 7,
     "metadata": {},
     "output_type": "execute_result"
    }
   ],
   "source": [
    "outputs.shape"
   ]
  },
  {
   "cell_type": "code",
   "execution_count": null,
   "metadata": {
    "collapsed": false,
    "pycharm": {
     "name": "#%%\n"
    }
   },
   "outputs": [],
   "source": []
  },
  {
   "cell_type": "code",
   "execution_count": null,
   "metadata": {
    "collapsed": false,
    "pycharm": {
     "name": "#%%\n"
    }
   },
   "outputs": [],
   "source": []
  },
  {
   "cell_type": "code",
   "execution_count": null,
   "metadata": {
    "collapsed": false,
    "pycharm": {
     "name": "#%%\n"
    }
   },
   "outputs": [],
   "source": []
  }
 ],
 "metadata": {
  "kernelspec": {
   "display_name": "Python 3",
   "language": "python",
   "name": "python3"
  },
  "language_info": {
   "codemirror_mode": {
    "name": "ipython",
    "version": 3
   },
   "file_extension": ".py",
   "mimetype": "text/x-python",
   "name": "python",
   "nbconvert_exporter": "python",
   "pygments_lexer": "ipython3",
   "version": "3.9.11"
  }
 },
 "nbformat": 4,
 "nbformat_minor": 0
}
