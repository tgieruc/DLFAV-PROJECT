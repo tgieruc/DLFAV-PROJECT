{
 "cells": [
  {
   "cell_type": "code",
   "execution_count": 1,
   "metadata": {
    "collapsed": true,
    "pycharm": {
     "name": "#%%\n"
    }
   },
   "outputs": [
    {
     "name": "stderr",
     "output_type": "stream",
     "text": [
      "C:\\Users\\Nelson\\AppData\\Local\\Programs\\Python\\Python39\\lib\\site-packages\\tqdm\\auto.py:22: TqdmWarning: IProgress not found. Please update jupyter and ipywidgets. See https://ipywidgets.readthedocs.io/en/stable/user_install.html\n",
      "  from .autonotebook import tqdm as notebook_tqdm\n"
     ]
    }
   ],
   "source": [
    "import sys,os\n",
    "sys.path.insert(0, os.path.join(os.path.abspath(''), \"YOLOX\"))\n",
    "\n",
    "import numpy as np\n",
    "import cv2\n",
    "import imutils\n",
    "\n",
    "from tracker import Tracker\n",
    "from pose_detector import PoseDetector\n",
    "from sequence_detector import SequenceDetector\n",
    "from pose_tracker import PoseTracker\n",
    "from visualizer import Visualizer\n",
    "from project_utils import identify_bbox\n",
    "\n",
    "environment = \"local\""
   ]
  },
  {
   "cell_type": "code",
   "execution_count": 2,
   "metadata": {
    "collapsed": false,
    "pycharm": {
     "name": "#%%\n"
    }
   },
   "outputs": [],
   "source": [
    "if environment == \"colab\":\n",
    "    from IPython.display import display, Javascript, Image, clear_output\n",
    "    from base64 import b64decode, b64encode\n",
    "    import cv2, PIL, io\n",
    "     # Import PyDrive and associated libraries.\n",
    "    # This only needs to be done once per notebook.\n",
    "    from pydrive.auth import GoogleAuth\n",
    "    from pydrive.drive import GoogleDrive\n",
    "    from google.colab import auth\n",
    "    from oauth2client.client import GoogleCredentials\n",
    "\n",
    "    # Authenticate and create the PyDrive client.\n",
    "    # This only needs to be done once per notebook.\n",
    "    auth.authenticate_user()\n",
    "    gauth = GoogleAuth()\n",
    "    gauth.credentials = GoogleCredentials.get_application_default()\n",
    "    drive = GoogleDrive(gauth)\n",
    "\n",
    "    !gdown --id 1iYxlkO_RZJ_6iL6wdIbfjl8VprLlFp1c\n",
    "\n",
    "         # function to convert the JavaScript object into an OpenCV image\n",
    "    def js_to_image(js_reply):\n",
    "        \"\"\"\n",
    "        Params:\n",
    "                js_reply: JavaScript object containing image from webcam\n",
    "        Returns:\n",
    "                img: OpenCV BGR image\n",
    "        \"\"\"\n",
    "        # decode base64 image\n",
    "        image_bytes = b64decode(js_reply.split(',')[1])\n",
    "        # convert bytes to numpy array\n",
    "        jpg_as_np = np.frombuffer(image_bytes, dtype=np.uint8)\n",
    "        # decode numpy array into OpenCV BGR image\n",
    "        img = cv2.imdecode(jpg_as_np, flags=1)\n",
    "\n",
    "        return img\n",
    "\n",
    "    # function to convert OpenCV Rectangle bounding box image into base64 byte string to be overlayed on video stream\n",
    "    def bbox_to_bytes(bbox_array):\n",
    "        \"\"\"\n",
    "        Params:\n",
    "                bbox_array: Numpy array (pixels) containing rectangle to overlay on video stream.\n",
    "        Returns:\n",
    "              bytes: Base64 image byte string\n",
    "        \"\"\"\n",
    "        # convert array into PIL image\n",
    "        bbox_PIL = PIL.Image.fromarray(bbox_array, 'RGBA')\n",
    "        iobuf = io.BytesIO()\n",
    "        # format bbox into png for return\n",
    "        bbox_PIL.save(iobuf, format='png')\n",
    "        # format return string\n",
    "        bbox_bytes = 'data:image/png;base64,{}'.format((str(b64encode(iobuf.getvalue()), 'utf-8')))\n",
    "\n",
    "        return bbox_bytes\n",
    "else:\n",
    "    cap = cv2.VideoCapture(0)"
   ]
  },
  {
   "cell_type": "code",
   "execution_count": 3,
   "metadata": {
    "collapsed": false,
    "pycharm": {
     "name": "#%%\n"
    }
   },
   "outputs": [
    {
     "name": "stderr",
     "output_type": "stream",
     "text": [
      "c:\\Users\\Nelson\\OneDrive\\EPFL\\DLforAutonomousVehicles\\Project\\DLFAV-PROJECT\\deep_sort\\utils\\parser.py:23: YAMLLoadWarning: calling yaml.load() without Loader=... is deprecated, as the default Loader is unsafe. Please read https://msg.pyyaml.org/load for full details.\n",
      "  self.update(yaml.load(fo.read()))\n"
     ]
    }
   ],
   "source": [
    "from pose_tracker import PoseTracker\n",
    "tracker = Tracker('person')\n",
    "pose_detector = PoseDetector(n_feature=8, n_output=3, checkpoint_path=\"pose_classification_simplified.ckpt\", simple_mode=True, model_based=False)\n",
    "sequence_detector = SequenceDetector([1,2], 10)\n",
    "pose_tracker = PoseTracker(pose_detector, sequence_detector, tracker)\n",
    "visualizer = Visualizer(environment)\n",
    "poi = None\n"
   ]
  },
  {
   "cell_type": "code",
   "execution_count": null,
   "metadata": {
    "collapsed": false,
    "pycharm": {
     "name": "#%%\n"
    }
   },
   "outputs": [],
   "source": [
    "if environment == \"colab\":\n",
    "    # start streaming video from webcam\n",
    "    video_stream()\n",
    "    # label for video\n",
    "    label_html = 'Capturing...'\n",
    "    # initialze bounding box to empty\n",
    "    bbox = ''\n",
    "    #count = 0\n",
    "while True:\n",
    "    if environment == \"colab\":\n",
    "        js_reply = video_frame(label_html, bbox)\n",
    "        if not js_reply:\n",
    "            break\n",
    "        # convert JS response to OpenCV Image\n",
    "        img = js_to_image(js_reply[\"img\"])\n",
    "        # create transparent overlay for bounding box\n",
    "        bbox_array = np.zeros([480,640,4], dtype=np.uint8)\n",
    "    else:\n",
    "        _, img = cap.read()\n",
    "        if img is None:\n",
    "            break\n",
    "\n",
    "    poi = None\n",
    "    im = imutils.resize(img, height=500)\n",
    "    #bbox, pose = pose_detector.inference(im)\n",
    "    outputs, poi = pose_tracker.update(im)\n",
    "    #bboxes = pose_detector.bboxes\n",
    "    #bboxes = np.insert(bboxes,4,0,axis=1)\n",
    "    #print(bboxes)\n",
    "    #bboxes[:,2:] = bboxes[:,2:] + bboxes[:,:2]\n",
    "    #outputs = np.array([np.append(outputs,bboxes)]).reshape([-1,5])\n",
    "    visualizer.show(im, outputs, poi)"
   ]
  },
  {
   "cell_type": "markdown",
   "metadata": {
    "collapsed": false,
    "pycharm": {
     "name": "#%% md\n"
    }
   },
   "source": []
  },
  {
   "cell_type": "markdown",
   "metadata": {
    "collapsed": false,
    "pycharm": {
     "name": "#%% md\n"
    }
   },
   "source": []
  },
  {
   "cell_type": "code",
   "execution_count": null,
   "metadata": {
    "collapsed": false,
    "pycharm": {
     "name": "#%%\n"
    }
   },
   "outputs": [
    {
     "data": {
      "text/plain": [
       "(1, 5)"
      ]
     },
     "execution_count": 7,
     "metadata": {},
     "output_type": "execute_result"
    }
   ],
   "source": [
    "outputs.shape"
   ]
  },
  {
   "cell_type": "code",
   "execution_count": null,
   "metadata": {
    "collapsed": false,
    "pycharm": {
     "name": "#%%\n"
    }
   },
   "outputs": [],
   "source": []
  },
  {
   "cell_type": "code",
   "execution_count": null,
   "metadata": {
    "collapsed": false,
    "pycharm": {
     "name": "#%%\n"
    }
   },
   "outputs": [],
   "source": []
  },
  {
   "cell_type": "code",
   "execution_count": null,
   "metadata": {
    "collapsed": false,
    "pycharm": {
     "name": "#%%\n"
    }
   },
   "outputs": [],
   "source": []
  }
 ],
 "metadata": {
  "kernelspec": {
   "display_name": "Python 3",
   "language": "python",
   "name": "python3"
  },
  "language_info": {
   "codemirror_mode": {
    "name": "ipython",
    "version": 3
   },
   "file_extension": ".py",
   "mimetype": "text/x-python",
   "name": "python",
   "nbconvert_exporter": "python",
   "pygments_lexer": "ipython3",
   "version": "3.9.11"
  }
 },
 "nbformat": 4,
 "nbformat_minor": 0
}
